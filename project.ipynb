{
 "cells": [
  {
   "cell_type": "code",
   "execution_count": 114,
   "metadata": {},
   "outputs": [],
   "source": [
    "# Imports\n",
    "import pandas as pd\n",
    "from dotenv import load_dotenv\n",
    "import os\n",
    "import csv\n",
    "import spacy \n",
    "import time\n",
    "from collections import Counter\n",
    "import matplotlib.pyplot as plt\n",
    "from sklearn.model_selection import train_test_split\n",
    "from sklearn.metrics import confusion_matrix, ConfusionMatrixDisplay"
   ]
  },
  {
   "cell_type": "markdown",
   "metadata": {},
   "source": [
    "# Data processing"
   ]
  },
  {
   "cell_type": "code",
   "execution_count": null,
   "metadata": {},
   "outputs": [],
   "source": [
    "load_dotenv()\n",
    "filepath = os.getenv('FILEPATH')"
   ]
  },
  {
   "cell_type": "markdown",
   "metadata": {},
   "source": [
    "**Reading the original dataset into Pandas dataframe and splitting the data into train (80), validation (10) and test (10) sets**"
   ]
  },
  {
   "cell_type": "code",
   "execution_count": null,
   "metadata": {},
   "outputs": [],
   "source": [
    "\n",
    "\"\"\"\n",
    "The corpus is formatted as a CSV and contains the following fields:\n",
    "\n",
    "    id\n",
    "    domain\n",
    "    type\n",
    "    url\n",
    "    content\n",
    "    scraped_at\n",
    "    inserted_at\n",
    "    updated_at\n",
    "    title\n",
    "    authors\n",
    "    keywords\n",
    "    meta_keywords\n",
    "    meta_description\n",
    "    tags\n",
    "    summary\n",
    "    source (opensources, nytimes, or webhose)\n",
    "\"\"\"\n",
    "csv.field_size_limit(100000000)\n",
    "\n",
    "\n",
    "selected_columns = [\"domain\", \"title\", \"authors\", \"type\", \"content\", \"url\"]\n",
    "sample_chunks = []\n",
    "for chunk in pd.read_csv(filepath, usecols=selected_columns, chunksize=100000, on_bad_lines='warn', engine='python'):\n",
    "    sample = chunk.sample(frac=0.1, random_state=42)\n",
    "    sample_chunks.append(sample)\n",
    "    df = pd.concat(sample_chunks, ignore_index=True)\n",
    "\n",
    "train_dataframe, temp_dataframe = train_test_split(df, test_size=0.2, random_state=42) # 80% for training and temp for validation and testing\n",
    "validation_dataframe, test_dataframe = train_test_split(temp_dataframe, test_size=0.5, random_state=42) # splitting the temp data into 10% for validation and 10% for testing\n",
    "\n",
    "train_dataframe.to_csv(\"data/train_data.csv\", chunksize=100000)\n",
    "validation_dataframe.to_csv(\"data/validation_data.csv\", chunksize=100000)\n",
    "test_dataframe.to_csv(\"data/test_data.csv\", chunksize=100000)"
   ]
  },
  {
   "cell_type": "markdown",
   "metadata": {},
   "source": [
    "**Processing the data using SpaCy nlp library**"
   ]
  },
  {
   "cell_type": "code",
   "execution_count": null,
   "metadata": {},
   "outputs": [],
   "source": [
    "nlp = spacy.load(\"en_core_web_sm\", disable=[\"ner\", \"parser\"]) # https://www.geeksforgeeks.org/tokenization-using-spacy-library/\n",
    "selected_columns = [\"domain\", \"title\", \"authors\", \"type\", \"content\", \"url\"]\n",
    "\n",
    "# counter info https://www.geeksforgeeks.org/python-counter-objects-elements/\n",
    "lemmatized_vocab_counter = Counter() # number of lemmatized words without stopwords \n",
    "stopword_counter = Counter() \n",
    "filtered_vocab_counter = Counter() # number of words without stopwords\n",
    "original_vocab = set()\n",
    "csv.field_size_limit(100000000)\n",
    "\n",
    "# I used chatgpt here for understanding how to use spacy and processing the texts in batches to make the processing more efficient\n",
    "# spacy docs: https://spacy.io/usage/processing-pipelines \n",
    "def preprocess(texts):\n",
    "    for doc in nlp.pipe(texts, batch_size=500, n_process=4): # batch size is the number of texts to process at once\n",
    "\n",
    "        for token in doc: # token is a single word/punctuation in a list of tokens\n",
    "            if token.is_alpha: # check if token is a word\n",
    "                original_vocab.add(token.text.lower())\n",
    "                word = token.text.lower()\n",
    "                if (token.is_stop): # if the token is a stopword, add to counter\n",
    "                    stopword_counter[word] += 1\n",
    "                else: # otherwise update the filtered vocab counter and lemmatized vocab counter\n",
    "                    filtered_vocab_counter[word] += 1\n",
    "                    lemmatized_vocab_counter[token.lemma_.lower()] += 1 \n",
    "        \n",
    "        yield \" \".join(token.lemma_.lower() for token in doc if token.is_alpha and not token.is_stop)\n",
    "\n",
    "input_files = [\"data/train_data.csv\", \"data/validation_data.csv\", \"data/test_data.csv\"]\n",
    "output_files = [\"data/processed_train.csv\", \"data/processed_validation.csv\", \"data/processed_test.csv\"]\n",
    "\n",
    "for input_file, output_file in zip(input_files, output_files):\n",
    "    print(f\"Processing {input_file}\")\n",
    "    first_chunk = True\n",
    "\n",
    "    # writing the processed text data into another file\n",
    "    with open(output_file, \"w\", encoding=\"utf-8\") as f_out: \n",
    "        for chunk in pd.read_csv(input_file, encoding=\"utf-8\", usecols=selected_columns, on_bad_lines='warn', chunksize=1024, engine='python'):\n",
    "            start = time.time() # timing the chunk processing for debugging\n",
    "\n",
    "            # adding label column which tells whether the article is reliable (=1) or not (=0)\n",
    "            chunk[\"label\"] = chunk[\"type\"].apply(lambda x: 1 if str(x).strip().lower() == \"reliable\" else 0)\n",
    "            # collecting yields into a list\n",
    "            texts = chunk[\"content\"].fillna(\"\").astype(str).tolist() # content column to a list\n",
    "            processed = list(preprocess(texts)) # processing the list\n",
    "            chunk[\"processed_text\"] = processed # assigning back to chunk\n",
    "\n",
    "            print(f\"Chunk processed in {time.time() - start:.2f}s\")\n",
    "            # appending the chunk to the output file\n",
    "            chunk[[\"processed_text\", \"label\", \"type\", \"domain\", \"title\", \"url\", \"authors\"]].to_csv(f_out, mode=\"a\", header=first_chunk, index=False) \n",
    "            first_chunk = False # for the header \n",
    "\n",
    "\n",
    "print(\"Preprocessing done.\")"
   ]
  },
  {
   "cell_type": "code",
   "execution_count": 74,
   "metadata": {},
   "outputs": [],
   "source": [
    "# Reading the processed csv files into Pandas Dataframes\n",
    "df_train = pd.read_csv(\"data/processed/processed_train.csv\")  \n",
    "df_valid = pd.read_csv(\"data/processed/processed_validation.csv\")\n",
    "df_test = pd.read_csv(\"data/processed/processed_test.csv\")  "
   ]
  },
  {
   "cell_type": "markdown",
   "metadata": {},
   "source": [
    "### Computing reduction rates"
   ]
  },
  {
   "cell_type": "code",
   "execution_count": null,
   "metadata": {},
   "outputs": [],
   "source": [
    "\n",
    "stats_path = \"data/preprocessing_stats.txt\"\n",
    "\n",
    "if os.path.exists(stats_path): # checking if a statistics file already exists, so we don't have to do the analysis again\n",
    "    print(\"Preprocessing stats already exist, reading from file\\n\")\n",
    "    with open(stats_path, \"r\", encoding=\"utf-8\") as f:\n",
    "        print(f.read())\n",
    "else: \n",
    "    original_vocab_size = len(original_vocab) \n",
    "    filtered_vocab_size = len(filtered_vocab_counter)\n",
    "    lemmatized_vocab_size = len(lemmatized_vocab_counter)\n",
    "\n",
    "    # reduction rate after stopword removal\n",
    "    stopword_reduction_rate = ((original_vocab_size - filtered_vocab_size) / original_vocab_size) * 100\n",
    "\n",
    "    # calculating lemmatized reduction rate\n",
    "    lemmatized_reduction_rate = ((filtered_vocab_size - lemmatized_vocab_size) / filtered_vocab_size) * 100\n",
    "\n",
    "    print(f\"Original vocabulary size: {original_vocab_size}\")\n",
    "    print(f\"Vocabulary size after removing stopwords: {filtered_vocab_size}\")\n",
    "    print(f\"Vocabulary size after lemmatization: {lemmatized_vocab_size}\")\n",
    "    print(f\"Stopword reduction rate: {stopword_reduction_rate:.2f}%\")\n",
    "    print(f\"lemmatized reduction rate: {lemmatized_reduction_rate:.2f}%\")\n",
    "\n",
    "    with open(\"data/preprocessing_stats.txt\", \"w\", encoding=\"utf-8\") as f:\n",
    "        f.write(f\"Original vocabulary size: {original_vocab_size}\\n\")\n",
    "        f.write(f\"Vocabulary size after removing stopwords: {filtered_vocab_size}\\n\")\n",
    "        f.write(f\"Vocabulary size after lemmatization: {lemmatized_vocab_size}\\n\")\n",
    "        f.write(f\"Stopword reduction rate: {stopword_reduction_rate:.2f}%\\n\")\n",
    "        f.write(f\"Lemmatized reduction rate: {lemmatized_reduction_rate:.2f}%\\n\")\n",
    "\n",
    "    \n",
    "\n"
   ]
  },
  {
   "cell_type": "code",
   "execution_count": 53,
   "metadata": {},
   "outputs": [
    {
     "name": "stdout",
     "output_type": "stream",
     "text": [
      "                                      processed_text  label        type  \\\n",
      "0  times cover widely regard major american fashi...      1    reliable   \n",
      "1  dear reader excited announce voice russia chan...      0        bias   \n",
      "2     late deliver daily friend think read newspaper      0   political   \n",
      "3  receive natural health newsletter free subscri...      0     junksci   \n",
      "4  break tradition budget year yes go deliver fal...      0      satire   \n",
      "5  mark twain describe foul vilest obscene pictur...      0   political   \n",
      "6  tor tor encrypt anonymise network make hard in...      0  unreliable   \n",
      "7  tor tor encrypt anonymise network make hard in...      0  unreliable   \n",
      "8  edit reason give find little concern fact apri...      0  conspiracy   \n",
      "9  боевики обстреляли дагестанских омоновцев неиз...      0        bias   \n",
      "\n",
      "               domain                                              title  \\\n",
      "0         nytimes.com  Gösta Peterson, Barrier-Breaking Fashion Photo...   \n",
      "1     sputniknews.com  austerity, 2013 : The Voice of Russia: News, B...   \n",
      "2         pjmedia.com  'Hell or High Water' Is A Pro-Second Amendment...   \n",
      "3     naturalnews.com  antidepressants articles and information on th...   \n",
      "4      fridaymash.com                     The Remotest Idea - FridayMash   \n",
      "5        observer.com  Viewer as Voyeur: A Short History of Perfectly...   \n",
      "6       wikileaks.org                             Cable: 1976STATE203524   \n",
      "7       wikileaks.org                             Cable: 1973LUSAKA01725   \n",
      "8  abovetopsecret.com  Obama said back in April pretty much what Come...   \n",
      "9           pravda.ru          Боевики обстреляли дагестанских омоновцев   \n",
      "\n",
      "                                                 url  \\\n",
      "0  https://www.nytimes.com/2017/08/02/arts/gosta-...   \n",
      "1  https://sputniknews.com/voiceofrussia/tag_2304...   \n",
      "2  https://pjmedia.com/lifestyle/2016/08/09/did-h...   \n",
      "3  https://www.naturalnews.com/list_features_anti...   \n",
      "4    http://www.fridaymash.com/theweek/remotest-idea   \n",
      "5  http://observer.com/2010/08/viewer-as-voyeur-a...   \n",
      "6  https://www.wikileaks.org/plusd/cables/1976STA...   \n",
      "7  https://www.wikileaks.org/plusd/cables/1973LUS...   \n",
      "8  http://www.abovetopsecret.com/forum/thread1125...   \n",
      "9  https://www.pravda.ru/news/accidents/01-08-201...   \n",
      "\n",
      "                                             authors  text_length  \n",
      "0                                        Sam Roberts          500  \n",
      "1                                                NaN           22  \n",
      "2                                                NaN            7  \n",
      "3                                                NaN          282  \n",
      "4                                                NaN           10  \n",
      "5  Adam Lindemann, Http, Nyoobserver.Files.Wordpr...          406  \n",
      "6                                                NaN           80  \n",
      "7                                                NaN           80  \n",
      "8                                                NaN           33  \n",
      "9  Айдын Мехтиев, Александр Артамонов, Руслан Вес...          124  \n"
     ]
    }
   ],
   "source": [
    "print(df_train.head(10)) "
   ]
  },
  {
   "cell_type": "markdown",
   "metadata": {},
   "source": [
    "### Exploring training data after preprocessing"
   ]
  },
  {
   "cell_type": "markdown",
   "metadata": {},
   "source": [
    "**Precentage distribution of labels in the dataset**"
   ]
  },
  {
   "cell_type": "code",
   "execution_count": 36,
   "metadata": {},
   "outputs": [
    {
     "data": {
      "image/png": "[encoded data removed]",
      "text/plain": [
       "<Figure size 1000x600 with 1 Axes>"
      ]
     },
     "metadata": {},
     "output_type": "display_data"
    }
   ],
   "source": [
    "type_distribution = df_train[\"type\"].value_counts(normalize=True) * 100 # counting the distribution\n",
    "type_distribution.sort_values().plot(kind=\"barh\", figsize=(10, 6), color=\"darkblue\") # plotting a horizontal bar\n",
    "\n",
    "plt.xlabel(\"Percentage\")\n",
    "plt.ylabel(\"News Type\")\n",
    "plt.title(\"Distribution of News Types in Dataset\")\n",
    "plt.show()"
   ]
  },
  {
   "cell_type": "markdown",
   "metadata": {},
   "source": [
    "**Visualizing the distribution of words in reliable vs non-reliable news**"
   ]
  },
  {
   "cell_type": "code",
   "execution_count": 40,
   "metadata": {},
   "outputs": [
    {
     "data": {
      "image/png": "[encoded data removed]",
      "text/plain": [
       "<Figure size 1200x500 with 2 Axes>"
      ]
     },
     "metadata": {},
     "output_type": "display_data"
    }
   ],
   "source": [
    "reliable_texts = df_train[df_train[\"label\"] == 1][\"processed_text\"].dropna().astype(str)\n",
    "other_texts = df_train[df_train[\"label\"] != 1][\"processed_text\"].dropna().astype(str)\n",
    "\n",
    "reliable_counter = Counter()\n",
    "for text in reliable_texts:\n",
    "    reliable_counter.update(text.split())\n",
    "\n",
    "other_counter = Counter()\n",
    "for text in other_texts:\n",
    "    other_counter.update(text.split())\n",
    "\n",
    "# counting the top 10 words in reliable and other news\n",
    "reliable_top10 = reliable_counter.most_common(20)\n",
    "other_top10 = other_counter.most_common(20)\n",
    "\n",
    "# unzipping the word and count pairs\n",
    "words_r, counts_r = zip(*reliable_top10) # https://www.w3schools.com/python/ref_func_zip.asp\n",
    "words_o, counts_o = zip(*other_top10)\n",
    "\n",
    "plt.figure(figsize=(12, 5))\n",
    "\n",
    "# Plot reliable\n",
    "plt.subplot(1, 2, 1)\n",
    "plt.barh(words_r[::-1], counts_r[::-1], color=\"green\")\n",
    "plt.title(\"Top 10 Words in Reliable News\")\n",
    "\n",
    "# Plot other\n",
    "plt.subplot(1, 2, 2)\n",
    "plt.barh(words_o[::-1], counts_o[::-1], color=\"red\")\n",
    "plt.title(\"Top 10 Words in Other News\")\n",
    "\n",
    "plt.show()\n"
   ]
  },
  {
   "cell_type": "markdown",
   "metadata": {},
   "source": [
    "**Average and median text lengths by news label (fake or reliable)**"
   ]
  },
  {
   "cell_type": "code",
   "execution_count": 41,
   "metadata": {},
   "outputs": [
    {
     "data": {
      "image/png": "[encoded data removed]",
      "text/plain": [
       "<Figure size 800x500 with 1 Axes>"
      ]
     },
     "metadata": {},
     "output_type": "display_data"
    }
   ],
   "source": [
    "avg_md_stats = df_train.groupby(\"label\")[\"text_length\"].agg([\"mean\", \"median\"])\n",
    "\n",
    "ax = avg_md_stats.plot(kind=\"bar\", figsize=(8, 5))\n",
    "plt.title(\"Average and Median text length by news label\")\n",
    "plt.xlabel(\"Label (0 = Fake, 1 = Reliable)\")\n",
    "plt.ylabel(\"Word Count\")\n",
    "plt.xticks(ticks=[0, 1], labels=[\"Fake\", \"Reliable\"], rotation=0)\n",
    "plt.legend([\"Mean\", \"Median\"])\n",
    "plt.tight_layout()\n",
    "for container in ax.containers:\n",
    "    ax.bar_label(container, fmt=\"%.0f\", padding=3)\n",
    "plt.show()\n"
   ]
  },
  {
   "cell_type": "markdown",
   "metadata": {},
   "source": [
    "**Confusion matrix function**"
   ]
  },
  {
   "cell_type": "code",
   "execution_count": 118,
   "metadata": {},
   "outputs": [],
   "source": [
    "# reference: https://www.w3schools.com/python/python_ml_confusion_matrix.asp\n",
    "def confusion_matrix_fig(y_test, y_pred_test, title):\n",
    "    cm = confusion_matrix(y_test, y_pred_test)\n",
    "\n",
    "    # Plot the confusion matrix\n",
    "    disp = ConfusionMatrixDisplay(confusion_matrix=cm, display_labels=[\"Real (0)\", \"Fake (1)\"])\n",
    "    disp.plot(cmap=\"Blues\")  # You can change the colormap if you like\n",
    "    plt.title(f\"Confusion Matrix: {title}\")\n",
    "    plt.xlabel(\"Predicted Label\")\n",
    "    plt.ylabel(\"True Label\")\n",
    "    plt.show()"
   ]
  },
  {
   "cell_type": "markdown",
   "metadata": {},
   "source": [
    "# Simple model development using Naive Bayes"
   ]
  },
  {
   "cell_type": "code",
   "execution_count": 51,
   "metadata": {},
   "outputs": [],
   "source": [
    "# imports for simple model\n",
    "from sklearn.naive_bayes import MultinomialNB\n",
    "from sklearn.metrics import classification_report, accuracy_score\n",
    "from sklearn.feature_extraction.text import TfidfVectorizer\n",
    "from sklearn.preprocessing import OneHotEncoder\n",
    "from scipy.sparse import hstack"
   ]
  },
  {
   "cell_type": "markdown",
   "metadata": {},
   "source": [
    "**Initial model using only the content and label for building the model**"
   ]
  },
  {
   "cell_type": "code",
   "execution_count": 43,
   "metadata": {},
   "outputs": [],
   "source": [
    "\n",
    "x_train = df_train[\"processed_text\"].fillna(\"\")\n",
    "y_train = df_train[\"label\"]\n",
    "\n",
    "x_valid = df_valid[\"processed_text\"].fillna(\"\")\n",
    "y_valid = df_valid[\"label\"]\n",
    "\n",
    "x_test = df_test[\"processed_text\"].fillna(\"\")\n",
    "y_test = df_test[\"label\"]\n",
    "\n",
    "# vectorizing using bigram TF-IDF\n",
    "vectorizer = TfidfVectorizer(analyzer='word', ngram_range=(2, 2))\n",
    "\n",
    "x_train_vec = vectorizer.fit_transform(x_train)\n",
    "x_val_vec = vectorizer.transform(x_valid)\n",
    "x_test_vec = vectorizer.transform(x_test)\n"
   ]
  },
  {
   "cell_type": "code",
   "execution_count": 65,
   "metadata": {},
   "outputs": [
    {
     "data": {
      "text/html": [
       "<style>#sk-container-id-7 {\n",
       "  /* Definition of color scheme common for light and dark mode */\n",
       "  --sklearn-color-text: #000;\n",
       "  --sklearn-color-text-muted: #666;\n",
       "  --sklearn-color-line: gray;\n",
       "  /* Definition of color scheme for unfitted estimators */\n",
       "  --sklearn-color-unfitted-level-0: #fff5e6;\n",
       "  --sklearn-color-unfitted-level-1: #f6e4d2;\n",
       "  --sklearn-color-unfitted-level-2: #ffe0b3;\n",
       "  --sklearn-color-unfitted-level-3: chocolate;\n",
       "  /* Definition of color scheme for fitted estimators */\n",
       "  --sklearn-color-fitted-level-0: #f0f8ff;\n",
       "  --sklearn-color-fitted-level-1: #d4ebff;\n",
       "  --sklearn-color-fitted-level-2: #b3dbfd;\n",
       "  --sklearn-color-fitted-level-3: cornflowerblue;\n",
       "\n",
       "  /* Specific color for light theme */\n",
       "  --sklearn-color-text-on-default-background: var(--sg-text-color, var(--theme-code-foreground, var(--jp-content-font-color1, black)));\n",
       "  --sklearn-color-background: var(--sg-background-color, var(--theme-background, var(--jp-layout-color0, white)));\n",
       "  --sklearn-color-border-box: var(--sg-text-color, var(--theme-code-foreground, var(--jp-content-font-color1, black)));\n",
       "  --sklearn-color-icon: #696969;\n",
       "\n",
       "  @media (prefers-color-scheme: dark) {\n",
       "    /* Redefinition of color scheme for dark theme */\n",
       "    --sklearn-color-text-on-default-background: var(--sg-text-color, var(--theme-code-foreground, var(--jp-content-font-color1, white)));\n",
       "    --sklearn-color-background: var(--sg-background-color, var(--theme-background, var(--jp-layout-color0, #111)));\n",
       "    --sklearn-color-border-box: var(--sg-text-color, var(--theme-code-foreground, var(--jp-content-font-color1, white)));\n",
       "    --sklearn-color-icon: #878787;\n",
       "  }\n",
       "}\n",
       "\n",
       "#sk-container-id-7 {\n",
       "  color: var(--sklearn-color-text);\n",
       "}\n",
       "\n",
       "#sk-container-id-7 pre {\n",
       "  padding: 0;\n",
       "}\n",
       "\n",
       "#sk-container-id-7 input.sk-hidden--visually {\n",
       "  border: 0;\n",
       "  clip: rect(1px 1px 1px 1px);\n",
       "  clip: rect(1px, 1px, 1px, 1px);\n",
       "  height: 1px;\n",
       "  margin: -1px;\n",
       "  overflow: hidden;\n",
       "  padding: 0;\n",
       "  position: absolute;\n",
       "  width: 1px;\n",
       "}\n",
       "\n",
       "#sk-container-id-7 div.sk-dashed-wrapped {\n",
       "  border: 1px dashed var(--sklearn-color-line);\n",
       "  margin: 0 0.4em 0.5em 0.4em;\n",
       "  box-sizing: border-box;\n",
       "  padding-bottom: 0.4em;\n",
       "  background-color: var(--sklearn-color-background);\n",
       "}\n",
       "\n",
       "#sk-container-id-7 div.sk-container {\n",
       "  /* jupyter's `normalize.less` sets `[hidden] { display: none; }`\n",
       "     but bootstrap.min.css set `[hidden] { display: none !important; }`\n",
       "     so we also need the `!important` here to be able to override the\n",
       "     default hidden behavior on the sphinx rendered scikit-learn.org.\n",
       "     See: https://github.com/scikit-learn/scikit-learn/issues/21755 */\n",
       "  display: inline-block !important;\n",
       "  position: relative;\n",
       "}\n",
       "\n",
       "#sk-container-id-7 div.sk-text-repr-fallback {\n",
       "  display: none;\n",
       "}\n",
       "\n",
       "div.sk-parallel-item,\n",
       "div.sk-serial,\n",
       "div.sk-item {\n",
       "  /* draw centered vertical line to link estimators */\n",
       "  background-image: linear-gradient(var(--sklearn-color-text-on-default-background), var(--sklearn-color-text-on-default-background));\n",
       "  background-size: 2px 100%;\n",
       "  background-repeat: no-repeat;\n",
       "  background-position: center center;\n",
       "}\n",
       "\n",
       "/* Parallel-specific style estimator block */\n",
       "\n",
       "#sk-container-id-7 div.sk-parallel-item::after {\n",
       "  content: \"\";\n",
       "  width: 100%;\n",
       "  border-bottom: 2px solid var(--sklearn-color-text-on-default-background);\n",
       "  flex-grow: 1;\n",
       "}\n",
       "\n",
       "#sk-container-id-7 div.sk-parallel {\n",
       "  display: flex;\n",
       "  align-items: stretch;\n",
       "  justify-content: center;\n",
       "  background-color: var(--sklearn-color-background);\n",
       "  position: relative;\n",
       "}\n",
       "\n",
       "#sk-container-id-7 div.sk-parallel-item {\n",
       "  display: flex;\n",
       "  flex-direction: column;\n",
       "}\n",
       "\n",
       "#sk-container-id-7 div.sk-parallel-item:first-child::after {\n",
       "  align-self: flex-end;\n",
       "  width: 50%;\n",
       "}\n",
       "\n",
       "#sk-container-id-7 div.sk-parallel-item:last-child::after {\n",
       "  align-self: flex-start;\n",
       "  width: 50%;\n",
       "}\n",
       "\n",
       "#sk-container-id-7 div.sk-parallel-item:only-child::after {\n",
       "  width: 0;\n",
       "}\n",
       "\n",
       "/* Serial-specific style estimator block */\n",
       "\n",
       "#sk-container-id-7 div.sk-serial {\n",
       "  display: flex;\n",
       "  flex-direction: column;\n",
       "  align-items: center;\n",
       "  background-color: var(--sklearn-color-background);\n",
       "  padding-right: 1em;\n",
       "  padding-left: 1em;\n",
       "}\n",
       "\n",
       "\n",
       "/* Toggleable style: style used for estimator/Pipeline/ColumnTransformer box that is\n",
       "clickable and can be expanded/collapsed.\n",
       "- Pipeline and ColumnTransformer use this feature and define the default style\n",
       "- Estimators will overwrite some part of the style using the `sk-estimator` class\n",
       "*/\n",
       "\n",
       "/* Pipeline and ColumnTransformer style (default) */\n",
       "\n",
       "#sk-container-id-7 div.sk-toggleable {\n",
       "  /* Default theme specific background. It is overwritten whether we have a\n",
       "  specific estimator or a Pipeline/ColumnTransformer */\n",
       "  background-color: var(--sklearn-color-background);\n",
       "}\n",
       "\n",
       "/* Toggleable label */\n",
       "#sk-container-id-7 label.sk-toggleable__label {\n",
       "  cursor: pointer;\n",
       "  display: flex;\n",
       "  width: 100%;\n",
       "  margin-bottom: 0;\n",
       "  padding: 0.5em;\n",
       "  box-sizing: border-box;\n",
       "  text-align: center;\n",
       "  align-items: start;\n",
       "  justify-content: space-between;\n",
       "  gap: 0.5em;\n",
       "}\n",
       "\n",
       "#sk-container-id-7 label.sk-toggleable__label .caption {\n",
       "  font-size: 0.6rem;\n",
       "  font-weight: lighter;\n",
       "  color: var(--sklearn-color-text-muted);\n",
       "}\n",
       "\n",
       "#sk-container-id-7 label.sk-toggleable__label-arrow:before {\n",
       "  /* Arrow on the left of the label */\n",
       "  content: \"▸\";\n",
       "  float: left;\n",
       "  margin-right: 0.25em;\n",
       "  color: var(--sklearn-color-icon);\n",
       "}\n",
       "\n",
       "#sk-container-id-7 label.sk-toggleable__label-arrow:hover:before {\n",
       "  color: var(--sklearn-color-text);\n",
       "}\n",
       "\n",
       "/* Toggleable content - dropdown */\n",
       "\n",
       "#sk-container-id-7 div.sk-toggleable__content {\n",
       "  max-height: 0;\n",
       "  max-width: 0;\n",
       "  overflow: hidden;\n",
       "  text-align: left;\n",
       "  /* unfitted */\n",
       "  background-color: var(--sklearn-color-unfitted-level-0);\n",
       "}\n",
       "\n",
       "#sk-container-id-7 div.sk-toggleable__content.fitted {\n",
       "  /* fitted */\n",
       "  background-color: var(--sklearn-color-fitted-level-0);\n",
       "}\n",
       "\n",
       "#sk-container-id-7 div.sk-toggleable__content pre {\n",
       "  margin: 0.2em;\n",
       "  border-radius: 0.25em;\n",
       "  color: var(--sklearn-color-text);\n",
       "  /* unfitted */\n",
       "  background-color: var(--sklearn-color-unfitted-level-0);\n",
       "}\n",
       "\n",
       "#sk-container-id-7 div.sk-toggleable__content.fitted pre {\n",
       "  /* unfitted */\n",
       "  background-color: var(--sklearn-color-fitted-level-0);\n",
       "}\n",
       "\n",
       "#sk-container-id-7 input.sk-toggleable__control:checked~div.sk-toggleable__content {\n",
       "  /* Expand drop-down */\n",
       "  max-height: 200px;\n",
       "  max-width: 100%;\n",
       "  overflow: auto;\n",
       "}\n",
       "\n",
       "#sk-container-id-7 input.sk-toggleable__control:checked~label.sk-toggleable__label-arrow:before {\n",
       "  content: \"▾\";\n",
       "}\n",
       "\n",
       "/* Pipeline/ColumnTransformer-specific style */\n",
       "\n",
       "#sk-container-id-7 div.sk-label input.sk-toggleable__control:checked~label.sk-toggleable__label {\n",
       "  color: var(--sklearn-color-text);\n",
       "  background-color: var(--sklearn-color-unfitted-level-2);\n",
       "}\n",
       "\n",
       "#sk-container-id-7 div.sk-label.fitted input.sk-toggleable__control:checked~label.sk-toggleable__label {\n",
       "  background-color: var(--sklearn-color-fitted-level-2);\n",
       "}\n",
       "\n",
       "/* Estimator-specific style */\n",
       "\n",
       "/* Colorize estimator box */\n",
       "#sk-container-id-7 div.sk-estimator input.sk-toggleable__control:checked~label.sk-toggleable__label {\n",
       "  /* unfitted */\n",
       "  background-color: var(--sklearn-color-unfitted-level-2);\n",
       "}\n",
       "\n",
       "#sk-container-id-7 div.sk-estimator.fitted input.sk-toggleable__control:checked~label.sk-toggleable__label {\n",
       "  /* fitted */\n",
       "  background-color: var(--sklearn-color-fitted-level-2);\n",
       "}\n",
       "\n",
       "#sk-container-id-7 div.sk-label label.sk-toggleable__label,\n",
       "#sk-container-id-7 div.sk-label label {\n",
       "  /* The background is the default theme color */\n",
       "  color: var(--sklearn-color-text-on-default-background);\n",
       "}\n",
       "\n",
       "/* On hover, darken the color of the background */\n",
       "#sk-container-id-7 div.sk-label:hover label.sk-toggleable__label {\n",
       "  color: var(--sklearn-color-text);\n",
       "  background-color: var(--sklearn-color-unfitted-level-2);\n",
       "}\n",
       "\n",
       "/* Label box, darken color on hover, fitted */\n",
       "#sk-container-id-7 div.sk-label.fitted:hover label.sk-toggleable__label.fitted {\n",
       "  color: var(--sklearn-color-text);\n",
       "  background-color: var(--sklearn-color-fitted-level-2);\n",
       "}\n",
       "\n",
       "/* Estimator label */\n",
       "\n",
       "#sk-container-id-7 div.sk-label label {\n",
       "  font-family: monospace;\n",
       "  font-weight: bold;\n",
       "  display: inline-block;\n",
       "  line-height: 1.2em;\n",
       "}\n",
       "\n",
       "#sk-container-id-7 div.sk-label-container {\n",
       "  text-align: center;\n",
       "}\n",
       "\n",
       "/* Estimator-specific */\n",
       "#sk-container-id-7 div.sk-estimator {\n",
       "  font-family: monospace;\n",
       "  border: 1px dotted var(--sklearn-color-border-box);\n",
       "  border-radius: 0.25em;\n",
       "  box-sizing: border-box;\n",
       "  margin-bottom: 0.5em;\n",
       "  /* unfitted */\n",
       "  background-color: var(--sklearn-color-unfitted-level-0);\n",
       "}\n",
       "\n",
       "#sk-container-id-7 div.sk-estimator.fitted {\n",
       "  /* fitted */\n",
       "  background-color: var(--sklearn-color-fitted-level-0);\n",
       "}\n",
       "\n",
       "/* on hover */\n",
       "#sk-container-id-7 div.sk-estimator:hover {\n",
       "  /* unfitted */\n",
       "  background-color: var(--sklearn-color-unfitted-level-2);\n",
       "}\n",
       "\n",
       "#sk-container-id-7 div.sk-estimator.fitted:hover {\n",
       "  /* fitted */\n",
       "  background-color: var(--sklearn-color-fitted-level-2);\n",
       "}\n",
       "\n",
       "/* Specification for estimator info (e.g. \"i\" and \"?\") */\n",
       "\n",
       "/* Common style for \"i\" and \"?\" */\n",
       "\n",
       ".sk-estimator-doc-link,\n",
       "a:link.sk-estimator-doc-link,\n",
       "a:visited.sk-estimator-doc-link {\n",
       "  float: right;\n",
       "  font-size: smaller;\n",
       "  line-height: 1em;\n",
       "  font-family: monospace;\n",
       "  background-color: var(--sklearn-color-background);\n",
       "  border-radius: 1em;\n",
       "  height: 1em;\n",
       "  width: 1em;\n",
       "  text-decoration: none !important;\n",
       "  margin-left: 0.5em;\n",
       "  text-align: center;\n",
       "  /* unfitted */\n",
       "  border: var(--sklearn-color-unfitted-level-1) 1pt solid;\n",
       "  color: var(--sklearn-color-unfitted-level-1);\n",
       "}\n",
       "\n",
       ".sk-estimator-doc-link.fitted,\n",
       "a:link.sk-estimator-doc-link.fitted,\n",
       "a:visited.sk-estimator-doc-link.fitted {\n",
       "  /* fitted */\n",
       "  border: var(--sklearn-color-fitted-level-1) 1pt solid;\n",
       "  color: var(--sklearn-color-fitted-level-1);\n",
       "}\n",
       "\n",
       "/* On hover */\n",
       "div.sk-estimator:hover .sk-estimator-doc-link:hover,\n",
       ".sk-estimator-doc-link:hover,\n",
       "div.sk-label-container:hover .sk-estimator-doc-link:hover,\n",
       ".sk-estimator-doc-link:hover {\n",
       "  /* unfitted */\n",
       "  background-color: var(--sklearn-color-unfitted-level-3);\n",
       "  color: var(--sklearn-color-background);\n",
       "  text-decoration: none;\n",
       "}\n",
       "\n",
       "div.sk-estimator.fitted:hover .sk-estimator-doc-link.fitted:hover,\n",
       ".sk-estimator-doc-link.fitted:hover,\n",
       "div.sk-label-container:hover .sk-estimator-doc-link.fitted:hover,\n",
       ".sk-estimator-doc-link.fitted:hover {\n",
       "  /* fitted */\n",
       "  background-color: var(--sklearn-color-fitted-level-3);\n",
       "  color: var(--sklearn-color-background);\n",
       "  text-decoration: none;\n",
       "}\n",
       "\n",
       "/* Span, style for the box shown on hovering the info icon */\n",
       ".sk-estimator-doc-link span {\n",
       "  display: none;\n",
       "  z-index: 9999;\n",
       "  position: relative;\n",
       "  font-weight: normal;\n",
       "  right: .2ex;\n",
       "  padding: .5ex;\n",
       "  margin: .5ex;\n",
       "  width: min-content;\n",
       "  min-width: 20ex;\n",
       "  max-width: 50ex;\n",
       "  color: var(--sklearn-color-text);\n",
       "  box-shadow: 2pt 2pt 4pt #999;\n",
       "  /* unfitted */\n",
       "  background: var(--sklearn-color-unfitted-level-0);\n",
       "  border: .5pt solid var(--sklearn-color-unfitted-level-3);\n",
       "}\n",
       "\n",
       ".sk-estimator-doc-link.fitted span {\n",
       "  /* fitted */\n",
       "  background: var(--sklearn-color-fitted-level-0);\n",
       "  border: var(--sklearn-color-fitted-level-3);\n",
       "}\n",
       "\n",
       ".sk-estimator-doc-link:hover span {\n",
       "  display: block;\n",
       "}\n",
       "\n",
       "/* \"?\"-specific style due to the `<a>` HTML tag */\n",
       "\n",
       "#sk-container-id-7 a.estimator_doc_link {\n",
       "  float: right;\n",
       "  font-size: 1rem;\n",
       "  line-height: 1em;\n",
       "  font-family: monospace;\n",
       "  background-color: var(--sklearn-color-background);\n",
       "  border-radius: 1rem;\n",
       "  height: 1rem;\n",
       "  width: 1rem;\n",
       "  text-decoration: none;\n",
       "  /* unfitted */\n",
       "  color: var(--sklearn-color-unfitted-level-1);\n",
       "  border: var(--sklearn-color-unfitted-level-1) 1pt solid;\n",
       "}\n",
       "\n",
       "#sk-container-id-7 a.estimator_doc_link.fitted {\n",
       "  /* fitted */\n",
       "  border: var(--sklearn-color-fitted-level-1) 1pt solid;\n",
       "  color: var(--sklearn-color-fitted-level-1);\n",
       "}\n",
       "\n",
       "/* On hover */\n",
       "#sk-container-id-7 a.estimator_doc_link:hover {\n",
       "  /* unfitted */\n",
       "  background-color: var(--sklearn-color-unfitted-level-3);\n",
       "  color: var(--sklearn-color-background);\n",
       "  text-decoration: none;\n",
       "}\n",
       "\n",
       "#sk-container-id-7 a.estimator_doc_link.fitted:hover {\n",
       "  /* fitted */\n",
       "  background-color: var(--sklearn-color-fitted-level-3);\n",
       "}\n",
       "</style><div id=\"sk-container-id-7\" class=\"sk-top-container\"><div class=\"sk-text-repr-fallback\"><pre>MultinomialNB()</pre><b>In a Jupyter environment, please rerun this cell to show the HTML representation or trust the notebook. <br />On GitHub, the HTML representation is unable to render, please try loading this page with nbviewer.org.</b></div><div class=\"sk-container\" hidden><div class=\"sk-item\"><div class=\"sk-estimator fitted sk-toggleable\"><input class=\"sk-toggleable__control sk-hidden--visually\" id=\"sk-estimator-id-7\" type=\"checkbox\" checked><label for=\"sk-estimator-id-7\" class=\"sk-toggleable__label fitted sk-toggleable__label-arrow\"><div><div>MultinomialNB</div></div><div><a class=\"sk-estimator-doc-link fitted\" rel=\"noreferrer\" target=\"_blank\" href=\"https://scikit-learn.org/1.6/modules/generated/sklearn.naive_bayes.MultinomialNB.html\">?<span>Documentation for MultinomialNB</span></a><span class=\"sk-estimator-doc-link fitted\">i<span>Fitted</span></span></div></label><div class=\"sk-toggleable__content fitted\"><pre>MultinomialNB()</pre></div> </div></div></div></div>"
      ],
      "text/plain": [
       "MultinomialNB()"
      ]
     },
     "execution_count": 65,
     "metadata": {},
     "output_type": "execute_result"
    }
   ],
   "source": [
    "# training the model\n",
    "simple_model = MultinomialNB()\n",
    "simple_model.fit(x_train_vec, y_train)"
   ]
  },
  {
   "cell_type": "code",
   "execution_count": 66,
   "metadata": {},
   "outputs": [
    {
     "name": "stdout",
     "output_type": "stream",
     "text": [
      "Validation data accuracy: 0.8658592348547912\n",
      "              precision    recall  f1-score   support\n",
      "\n",
      "           0       0.85      1.00      0.92     66089\n",
      "           1       0.99      0.41      0.58     19202\n",
      "\n",
      "    accuracy                           0.87     85291\n",
      "   macro avg       0.92      0.70      0.75     85291\n",
      "weighted avg       0.88      0.87      0.84     85291\n",
      "\n"
     ]
    }
   ],
   "source": [
    "# evaluating with validation data\n",
    "y_pred_val = simple_model.predict(x_val_vec)\n",
    "print(\"Validation data accuracy:\", accuracy_score(y_valid, y_pred_val))\n",
    "print(classification_report(y_valid, y_pred_val))"
   ]
  },
  {
   "cell_type": "code",
   "execution_count": 119,
   "metadata": {},
   "outputs": [
    {
     "name": "stdout",
     "output_type": "stream",
     "text": [
      "Test data accuracy: 0.8672896319658581\n",
      "              precision    recall  f1-score   support\n",
      "\n",
      "           0       0.85      1.00      0.92     66171\n",
      "           1       1.00      0.41      0.58     19120\n",
      "\n",
      "    accuracy                           0.87     85291\n",
      "   macro avg       0.92      0.70      0.75     85291\n",
      "weighted avg       0.89      0.87      0.84     85291\n",
      "\n"
     ]
    },
    {
     "data": {
      "image/png": "[encoded data removed]",
      "text/plain": [
       "<Figure size 640x480 with 2 Axes>"
      ]
     },
     "metadata": {},
     "output_type": "display_data"
    }
   ],
   "source": [
    "# evaluating with test data\n",
    "\n",
    "y_pred_test = simple_model.predict(x_test_vec)\n",
    "print(\"Test data accuracy:\", accuracy_score(y_test, y_pred_test))\n",
    "print(classification_report(y_test, y_pred_test))\n",
    "\n",
    "confusion_matrix_fig(y_test, y_pred_test, \"Simple Model on test data\")"
   ]
  },
  {
   "cell_type": "markdown",
   "metadata": {},
   "source": [
    "### Using more metadata for the model"
   ]
  },
  {
   "cell_type": "markdown",
   "metadata": {},
   "source": [
    "**Using domain and title for additional data to predict fake news**"
   ]
  },
  {
   "cell_type": "code",
   "execution_count": 52,
   "metadata": {},
   "outputs": [],
   "source": [
    "domain_ohe = OneHotEncoder(handle_unknown='ignore', sparse_output=True)\n",
    "domain_encoded = domain_ohe.fit_transform(df_train[[\"domain\"]])\n",
    "\n",
    "title_vec = TfidfVectorizer(max_features=500, stop_words='english')\n",
    "title_encoded = title_vec.fit_transform(df_train[\"title\"].fillna(\"\"))\n"
   ]
  },
  {
   "cell_type": "code",
   "execution_count": 54,
   "metadata": {},
   "outputs": [],
   "source": [
    "x_combined = hstack([x_train_vec, domain_encoded, title_encoded])\n",
    "y = df_train[\"label\"]"
   ]
  },
  {
   "cell_type": "code",
   "execution_count": 55,
   "metadata": {},
   "outputs": [
    {
     "data": {
      "text/html": [
       "<style>#sk-container-id-4 {\n",
       "  /* Definition of color scheme common for light and dark mode */\n",
       "  --sklearn-color-text: #000;\n",
       "  --sklearn-color-text-muted: #666;\n",
       "  --sklearn-color-line: gray;\n",
       "  /* Definition of color scheme for unfitted estimators */\n",
       "  --sklearn-color-unfitted-level-0: #fff5e6;\n",
       "  --sklearn-color-unfitted-level-1: #f6e4d2;\n",
       "  --sklearn-color-unfitted-level-2: #ffe0b3;\n",
       "  --sklearn-color-unfitted-level-3: chocolate;\n",
       "  /* Definition of color scheme for fitted estimators */\n",
       "  --sklearn-color-fitted-level-0: #f0f8ff;\n",
       "  --sklearn-color-fitted-level-1: #d4ebff;\n",
       "  --sklearn-color-fitted-level-2: #b3dbfd;\n",
       "  --sklearn-color-fitted-level-3: cornflowerblue;\n",
       "\n",
       "  /* Specific color for light theme */\n",
       "  --sklearn-color-text-on-default-background: var(--sg-text-color, var(--theme-code-foreground, var(--jp-content-font-color1, black)));\n",
       "  --sklearn-color-background: var(--sg-background-color, var(--theme-background, var(--jp-layout-color0, white)));\n",
       "  --sklearn-color-border-box: var(--sg-text-color, var(--theme-code-foreground, var(--jp-content-font-color1, black)));\n",
       "  --sklearn-color-icon: #696969;\n",
       "\n",
       "  @media (prefers-color-scheme: dark) {\n",
       "    /* Redefinition of color scheme for dark theme */\n",
       "    --sklearn-color-text-on-default-background: var(--sg-text-color, var(--theme-code-foreground, var(--jp-content-font-color1, white)));\n",
       "    --sklearn-color-background: var(--sg-background-color, var(--theme-background, var(--jp-layout-color0, #111)));\n",
       "    --sklearn-color-border-box: var(--sg-text-color, var(--theme-code-foreground, var(--jp-content-font-color1, white)));\n",
       "    --sklearn-color-icon: #878787;\n",
       "  }\n",
       "}\n",
       "\n",
       "#sk-container-id-4 {\n",
       "  color: var(--sklearn-color-text);\n",
       "}\n",
       "\n",
       "#sk-container-id-4 pre {\n",
       "  padding: 0;\n",
       "}\n",
       "\n",
       "#sk-container-id-4 input.sk-hidden--visually {\n",
       "  border: 0;\n",
       "  clip: rect(1px 1px 1px 1px);\n",
       "  clip: rect(1px, 1px, 1px, 1px);\n",
       "  height: 1px;\n",
       "  margin: -1px;\n",
       "  overflow: hidden;\n",
       "  padding: 0;\n",
       "  position: absolute;\n",
       "  width: 1px;\n",
       "}\n",
       "\n",
       "#sk-container-id-4 div.sk-dashed-wrapped {\n",
       "  border: 1px dashed var(--sklearn-color-line);\n",
       "  margin: 0 0.4em 0.5em 0.4em;\n",
       "  box-sizing: border-box;\n",
       "  padding-bottom: 0.4em;\n",
       "  background-color: var(--sklearn-color-background);\n",
       "}\n",
       "\n",
       "#sk-container-id-4 div.sk-container {\n",
       "  /* jupyter's `normalize.less` sets `[hidden] { display: none; }`\n",
       "     but bootstrap.min.css set `[hidden] { display: none !important; }`\n",
       "     so we also need the `!important` here to be able to override the\n",
       "     default hidden behavior on the sphinx rendered scikit-learn.org.\n",
       "     See: https://github.com/scikit-learn/scikit-learn/issues/21755 */\n",
       "  display: inline-block !important;\n",
       "  position: relative;\n",
       "}\n",
       "\n",
       "#sk-container-id-4 div.sk-text-repr-fallback {\n",
       "  display: none;\n",
       "}\n",
       "\n",
       "div.sk-parallel-item,\n",
       "div.sk-serial,\n",
       "div.sk-item {\n",
       "  /* draw centered vertical line to link estimators */\n",
       "  background-image: linear-gradient(var(--sklearn-color-text-on-default-background), var(--sklearn-color-text-on-default-background));\n",
       "  background-size: 2px 100%;\n",
       "  background-repeat: no-repeat;\n",
       "  background-position: center center;\n",
       "}\n",
       "\n",
       "/* Parallel-specific style estimator block */\n",
       "\n",
       "#sk-container-id-4 div.sk-parallel-item::after {\n",
       "  content: \"\";\n",
       "  width: 100%;\n",
       "  border-bottom: 2px solid var(--sklearn-color-text-on-default-background);\n",
       "  flex-grow: 1;\n",
       "}\n",
       "\n",
       "#sk-container-id-4 div.sk-parallel {\n",
       "  display: flex;\n",
       "  align-items: stretch;\n",
       "  justify-content: center;\n",
       "  background-color: var(--sklearn-color-background);\n",
       "  position: relative;\n",
       "}\n",
       "\n",
       "#sk-container-id-4 div.sk-parallel-item {\n",
       "  display: flex;\n",
       "  flex-direction: column;\n",
       "}\n",
       "\n",
       "#sk-container-id-4 div.sk-parallel-item:first-child::after {\n",
       "  align-self: flex-end;\n",
       "  width: 50%;\n",
       "}\n",
       "\n",
       "#sk-container-id-4 div.sk-parallel-item:last-child::after {\n",
       "  align-self: flex-start;\n",
       "  width: 50%;\n",
       "}\n",
       "\n",
       "#sk-container-id-4 div.sk-parallel-item:only-child::after {\n",
       "  width: 0;\n",
       "}\n",
       "\n",
       "/* Serial-specific style estimator block */\n",
       "\n",
       "#sk-container-id-4 div.sk-serial {\n",
       "  display: flex;\n",
       "  flex-direction: column;\n",
       "  align-items: center;\n",
       "  background-color: var(--sklearn-color-background);\n",
       "  padding-right: 1em;\n",
       "  padding-left: 1em;\n",
       "}\n",
       "\n",
       "\n",
       "/* Toggleable style: style used for estimator/Pipeline/ColumnTransformer box that is\n",
       "clickable and can be expanded/collapsed.\n",
       "- Pipeline and ColumnTransformer use this feature and define the default style\n",
       "- Estimators will overwrite some part of the style using the `sk-estimator` class\n",
       "*/\n",
       "\n",
       "/* Pipeline and ColumnTransformer style (default) */\n",
       "\n",
       "#sk-container-id-4 div.sk-toggleable {\n",
       "  /* Default theme specific background. It is overwritten whether we have a\n",
       "  specific estimator or a Pipeline/ColumnTransformer */\n",
       "  background-color: var(--sklearn-color-background);\n",
       "}\n",
       "\n",
       "/* Toggleable label */\n",
       "#sk-container-id-4 label.sk-toggleable__label {\n",
       "  cursor: pointer;\n",
       "  display: flex;\n",
       "  width: 100%;\n",
       "  margin-bottom: 0;\n",
       "  padding: 0.5em;\n",
       "  box-sizing: border-box;\n",
       "  text-align: center;\n",
       "  align-items: start;\n",
       "  justify-content: space-between;\n",
       "  gap: 0.5em;\n",
       "}\n",
       "\n",
       "#sk-container-id-4 label.sk-toggleable__label .caption {\n",
       "  font-size: 0.6rem;\n",
       "  font-weight: lighter;\n",
       "  color: var(--sklearn-color-text-muted);\n",
       "}\n",
       "\n",
       "#sk-container-id-4 label.sk-toggleable__label-arrow:before {\n",
       "  /* Arrow on the left of the label */\n",
       "  content: \"▸\";\n",
       "  float: left;\n",
       "  margin-right: 0.25em;\n",
       "  color: var(--sklearn-color-icon);\n",
       "}\n",
       "\n",
       "#sk-container-id-4 label.sk-toggleable__label-arrow:hover:before {\n",
       "  color: var(--sklearn-color-text);\n",
       "}\n",
       "\n",
       "/* Toggleable content - dropdown */\n",
       "\n",
       "#sk-container-id-4 div.sk-toggleable__content {\n",
       "  max-height: 0;\n",
       "  max-width: 0;\n",
       "  overflow: hidden;\n",
       "  text-align: left;\n",
       "  /* unfitted */\n",
       "  background-color: var(--sklearn-color-unfitted-level-0);\n",
       "}\n",
       "\n",
       "#sk-container-id-4 div.sk-toggleable__content.fitted {\n",
       "  /* fitted */\n",
       "  background-color: var(--sklearn-color-fitted-level-0);\n",
       "}\n",
       "\n",
       "#sk-container-id-4 div.sk-toggleable__content pre {\n",
       "  margin: 0.2em;\n",
       "  border-radius: 0.25em;\n",
       "  color: var(--sklearn-color-text);\n",
       "  /* unfitted */\n",
       "  background-color: var(--sklearn-color-unfitted-level-0);\n",
       "}\n",
       "\n",
       "#sk-container-id-4 div.sk-toggleable__content.fitted pre {\n",
       "  /* unfitted */\n",
       "  background-color: var(--sklearn-color-fitted-level-0);\n",
       "}\n",
       "\n",
       "#sk-container-id-4 input.sk-toggleable__control:checked~div.sk-toggleable__content {\n",
       "  /* Expand drop-down */\n",
       "  max-height: 200px;\n",
       "  max-width: 100%;\n",
       "  overflow: auto;\n",
       "}\n",
       "\n",
       "#sk-container-id-4 input.sk-toggleable__control:checked~label.sk-toggleable__label-arrow:before {\n",
       "  content: \"▾\";\n",
       "}\n",
       "\n",
       "/* Pipeline/ColumnTransformer-specific style */\n",
       "\n",
       "#sk-container-id-4 div.sk-label input.sk-toggleable__control:checked~label.sk-toggleable__label {\n",
       "  color: var(--sklearn-color-text);\n",
       "  background-color: var(--sklearn-color-unfitted-level-2);\n",
       "}\n",
       "\n",
       "#sk-container-id-4 div.sk-label.fitted input.sk-toggleable__control:checked~label.sk-toggleable__label {\n",
       "  background-color: var(--sklearn-color-fitted-level-2);\n",
       "}\n",
       "\n",
       "/* Estimator-specific style */\n",
       "\n",
       "/* Colorize estimator box */\n",
       "#sk-container-id-4 div.sk-estimator input.sk-toggleable__control:checked~label.sk-toggleable__label {\n",
       "  /* unfitted */\n",
       "  background-color: var(--sklearn-color-unfitted-level-2);\n",
       "}\n",
       "\n",
       "#sk-container-id-4 div.sk-estimator.fitted input.sk-toggleable__control:checked~label.sk-toggleable__label {\n",
       "  /* fitted */\n",
       "  background-color: var(--sklearn-color-fitted-level-2);\n",
       "}\n",
       "\n",
       "#sk-container-id-4 div.sk-label label.sk-toggleable__label,\n",
       "#sk-container-id-4 div.sk-label label {\n",
       "  /* The background is the default theme color */\n",
       "  color: var(--sklearn-color-text-on-default-background);\n",
       "}\n",
       "\n",
       "/* On hover, darken the color of the background */\n",
       "#sk-container-id-4 div.sk-label:hover label.sk-toggleable__label {\n",
       "  color: var(--sklearn-color-text);\n",
       "  background-color: var(--sklearn-color-unfitted-level-2);\n",
       "}\n",
       "\n",
       "/* Label box, darken color on hover, fitted */\n",
       "#sk-container-id-4 div.sk-label.fitted:hover label.sk-toggleable__label.fitted {\n",
       "  color: var(--sklearn-color-text);\n",
       "  background-color: var(--sklearn-color-fitted-level-2);\n",
       "}\n",
       "\n",
       "/* Estimator label */\n",
       "\n",
       "#sk-container-id-4 div.sk-label label {\n",
       "  font-family: monospace;\n",
       "  font-weight: bold;\n",
       "  display: inline-block;\n",
       "  line-height: 1.2em;\n",
       "}\n",
       "\n",
       "#sk-container-id-4 div.sk-label-container {\n",
       "  text-align: center;\n",
       "}\n",
       "\n",
       "/* Estimator-specific */\n",
       "#sk-container-id-4 div.sk-estimator {\n",
       "  font-family: monospace;\n",
       "  border: 1px dotted var(--sklearn-color-border-box);\n",
       "  border-radius: 0.25em;\n",
       "  box-sizing: border-box;\n",
       "  margin-bottom: 0.5em;\n",
       "  /* unfitted */\n",
       "  background-color: var(--sklearn-color-unfitted-level-0);\n",
       "}\n",
       "\n",
       "#sk-container-id-4 div.sk-estimator.fitted {\n",
       "  /* fitted */\n",
       "  background-color: var(--sklearn-color-fitted-level-0);\n",
       "}\n",
       "\n",
       "/* on hover */\n",
       "#sk-container-id-4 div.sk-estimator:hover {\n",
       "  /* unfitted */\n",
       "  background-color: var(--sklearn-color-unfitted-level-2);\n",
       "}\n",
       "\n",
       "#sk-container-id-4 div.sk-estimator.fitted:hover {\n",
       "  /* fitted */\n",
       "  background-color: var(--sklearn-color-fitted-level-2);\n",
       "}\n",
       "\n",
       "/* Specification for estimator info (e.g. \"i\" and \"?\") */\n",
       "\n",
       "/* Common style for \"i\" and \"?\" */\n",
       "\n",
       ".sk-estimator-doc-link,\n",
       "a:link.sk-estimator-doc-link,\n",
       "a:visited.sk-estimator-doc-link {\n",
       "  float: right;\n",
       "  font-size: smaller;\n",
       "  line-height: 1em;\n",
       "  font-family: monospace;\n",
       "  background-color: var(--sklearn-color-background);\n",
       "  border-radius: 1em;\n",
       "  height: 1em;\n",
       "  width: 1em;\n",
       "  text-decoration: none !important;\n",
       "  margin-left: 0.5em;\n",
       "  text-align: center;\n",
       "  /* unfitted */\n",
       "  border: var(--sklearn-color-unfitted-level-1) 1pt solid;\n",
       "  color: var(--sklearn-color-unfitted-level-1);\n",
       "}\n",
       "\n",
       ".sk-estimator-doc-link.fitted,\n",
       "a:link.sk-estimator-doc-link.fitted,\n",
       "a:visited.sk-estimator-doc-link.fitted {\n",
       "  /* fitted */\n",
       "  border: var(--sklearn-color-fitted-level-1) 1pt solid;\n",
       "  color: var(--sklearn-color-fitted-level-1);\n",
       "}\n",
       "\n",
       "/* On hover */\n",
       "div.sk-estimator:hover .sk-estimator-doc-link:hover,\n",
       ".sk-estimator-doc-link:hover,\n",
       "div.sk-label-container:hover .sk-estimator-doc-link:hover,\n",
       ".sk-estimator-doc-link:hover {\n",
       "  /* unfitted */\n",
       "  background-color: var(--sklearn-color-unfitted-level-3);\n",
       "  color: var(--sklearn-color-background);\n",
       "  text-decoration: none;\n",
       "}\n",
       "\n",
       "div.sk-estimator.fitted:hover .sk-estimator-doc-link.fitted:hover,\n",
       ".sk-estimator-doc-link.fitted:hover,\n",
       "div.sk-label-container:hover .sk-estimator-doc-link.fitted:hover,\n",
       ".sk-estimator-doc-link.fitted:hover {\n",
       "  /* fitted */\n",
       "  background-color: var(--sklearn-color-fitted-level-3);\n",
       "  color: var(--sklearn-color-background);\n",
       "  text-decoration: none;\n",
       "}\n",
       "\n",
       "/* Span, style for the box shown on hovering the info icon */\n",
       ".sk-estimator-doc-link span {\n",
       "  display: none;\n",
       "  z-index: 9999;\n",
       "  position: relative;\n",
       "  font-weight: normal;\n",
       "  right: .2ex;\n",
       "  padding: .5ex;\n",
       "  margin: .5ex;\n",
       "  width: min-content;\n",
       "  min-width: 20ex;\n",
       "  max-width: 50ex;\n",
       "  color: var(--sklearn-color-text);\n",
       "  box-shadow: 2pt 2pt 4pt #999;\n",
       "  /* unfitted */\n",
       "  background: var(--sklearn-color-unfitted-level-0);\n",
       "  border: .5pt solid var(--sklearn-color-unfitted-level-3);\n",
       "}\n",
       "\n",
       ".sk-estimator-doc-link.fitted span {\n",
       "  /* fitted */\n",
       "  background: var(--sklearn-color-fitted-level-0);\n",
       "  border: var(--sklearn-color-fitted-level-3);\n",
       "}\n",
       "\n",
       ".sk-estimator-doc-link:hover span {\n",
       "  display: block;\n",
       "}\n",
       "\n",
       "/* \"?\"-specific style due to the `<a>` HTML tag */\n",
       "\n",
       "#sk-container-id-4 a.estimator_doc_link {\n",
       "  float: right;\n",
       "  font-size: 1rem;\n",
       "  line-height: 1em;\n",
       "  font-family: monospace;\n",
       "  background-color: var(--sklearn-color-background);\n",
       "  border-radius: 1rem;\n",
       "  height: 1rem;\n",
       "  width: 1rem;\n",
       "  text-decoration: none;\n",
       "  /* unfitted */\n",
       "  color: var(--sklearn-color-unfitted-level-1);\n",
       "  border: var(--sklearn-color-unfitted-level-1) 1pt solid;\n",
       "}\n",
       "\n",
       "#sk-container-id-4 a.estimator_doc_link.fitted {\n",
       "  /* fitted */\n",
       "  border: var(--sklearn-color-fitted-level-1) 1pt solid;\n",
       "  color: var(--sklearn-color-fitted-level-1);\n",
       "}\n",
       "\n",
       "/* On hover */\n",
       "#sk-container-id-4 a.estimator_doc_link:hover {\n",
       "  /* unfitted */\n",
       "  background-color: var(--sklearn-color-unfitted-level-3);\n",
       "  color: var(--sklearn-color-background);\n",
       "  text-decoration: none;\n",
       "}\n",
       "\n",
       "#sk-container-id-4 a.estimator_doc_link.fitted:hover {\n",
       "  /* fitted */\n",
       "  background-color: var(--sklearn-color-fitted-level-3);\n",
       "}\n",
       "</style><div id=\"sk-container-id-4\" class=\"sk-top-container\"><div class=\"sk-text-repr-fallback\"><pre>MultinomialNB()</pre><b>In a Jupyter environment, please rerun this cell to show the HTML representation or trust the notebook. <br />On GitHub, the HTML representation is unable to render, please try loading this page with nbviewer.org.</b></div><div class=\"sk-container\" hidden><div class=\"sk-item\"><div class=\"sk-estimator fitted sk-toggleable\"><input class=\"sk-toggleable__control sk-hidden--visually\" id=\"sk-estimator-id-4\" type=\"checkbox\" checked><label for=\"sk-estimator-id-4\" class=\"sk-toggleable__label fitted sk-toggleable__label-arrow\"><div><div>MultinomialNB</div></div><div><a class=\"sk-estimator-doc-link fitted\" rel=\"noreferrer\" target=\"_blank\" href=\"https://scikit-learn.org/1.6/modules/generated/sklearn.naive_bayes.MultinomialNB.html\">?<span>Documentation for MultinomialNB</span></a><span class=\"sk-estimator-doc-link fitted\">i<span>Fitted</span></span></div></label><div class=\"sk-toggleable__content fitted\"><pre>MultinomialNB()</pre></div> </div></div></div></div>"
      ],
      "text/plain": [
       "MultinomialNB()"
      ]
     },
     "execution_count": 55,
     "metadata": {},
     "output_type": "execute_result"
    }
   ],
   "source": [
    "meta_model = MultinomialNB()\n",
    "meta_model.fit(x_combined, y)"
   ]
  },
  {
   "cell_type": "markdown",
   "metadata": {},
   "source": [
    "**Evaluating with validation data**"
   ]
  },
  {
   "cell_type": "code",
   "execution_count": 56,
   "metadata": {},
   "outputs": [],
   "source": [
    "domain_encoded_valid = domain_ohe.transform(df_valid[[\"domain\"]])\n",
    "title_encoded_valid = title_vec.transform(df_valid[\"title\"].fillna(\"\"))"
   ]
  },
  {
   "cell_type": "code",
   "execution_count": 57,
   "metadata": {},
   "outputs": [
    {
     "name": "stdout",
     "output_type": "stream",
     "text": [
      "Validation data accuracy: 0.9887913144411485\n",
      "              precision    recall  f1-score   support\n",
      "\n",
      "           0       0.99      1.00      0.99     66089\n",
      "           1       1.00      0.95      0.97     19202\n",
      "\n",
      "    accuracy                           0.99     85291\n",
      "   macro avg       0.99      0.98      0.98     85291\n",
      "weighted avg       0.99      0.99      0.99     85291\n",
      "\n"
     ]
    }
   ],
   "source": [
    "x_combined_val = hstack([x_val_vec, domain_encoded_valid, title_encoded_valid])\n",
    "y_val = df_valid[\"label\"]\n",
    "\n",
    "# evaluating\n",
    "y_pred = meta_model.predict(x_combined_val)\n",
    "\n",
    "print(\"Validation data accuracy:\", accuracy_score(y_val, y_pred))\n",
    "print(classification_report(y_val, y_pred))"
   ]
  },
  {
   "cell_type": "markdown",
   "metadata": {},
   "source": [
    "**Finally with test data**"
   ]
  },
  {
   "cell_type": "code",
   "execution_count": 58,
   "metadata": {},
   "outputs": [],
   "source": [
    "domain_encoded_test = domain_ohe.transform(df_test[[\"domain\"]])\n",
    "title_encoded_test = title_vec.transform(df_test[\"title\"].fillna(\"\"))"
   ]
  },
  {
   "cell_type": "code",
   "execution_count": 120,
   "metadata": {},
   "outputs": [
    {
     "name": "stdout",
     "output_type": "stream",
     "text": [
      "Test data accuracy: 0.9881699124174884\n",
      "              precision    recall  f1-score   support\n",
      "\n",
      "           0       0.98      1.00      0.99     66171\n",
      "           1       1.00      0.95      0.97     19120\n",
      "\n",
      "    accuracy                           0.99     85291\n",
      "   macro avg       0.99      0.97      0.98     85291\n",
      "weighted avg       0.99      0.99      0.99     85291\n",
      "\n"
     ]
    }
   ],
   "source": [
    "x_combined_test = hstack([x_test_vec, domain_encoded_test, title_encoded_test])\n",
    "y_test = df_test[\"label\"]\n",
    "\n",
    "# evaluating\n",
    "y_pred = meta_model.predict(x_combined_test)\n",
    "\n",
    "print(\"Test data accuracy:\", accuracy_score(y_test, y_pred))\n",
    "print(classification_report(y_test, y_pred))\n",
    "\n"
   ]
  },
  {
   "cell_type": "code",
   "execution_count": 121,
   "metadata": {},
   "outputs": [
    {
     "data": {
      "image/png": "[encoded data removed]",
      "text/plain": [
       "<Figure size 640x480 with 2 Axes>"
      ]
     },
     "metadata": {},
     "output_type": "display_data"
    }
   ],
   "source": [
    "confusion_matrix_fig(y_test, y_pred_test, \"Simple Model using metadata on test data\")"
   ]
  },
  {
   "cell_type": "markdown",
   "metadata": {},
   "source": [
    "**saving models**"
   ]
  },
  {
   "cell_type": "code",
   "execution_count": null,
   "metadata": {},
   "outputs": [],
   "source": [
    "import joblib\n",
    "\n",
    "# Save the model\n",
    "#joblib.dump(model, \"models/simple_model.joblib\")\n",
    "joblib.dump(meta_model, \"models/simple_model_meta.joblib\")\n",
    "\n",
    "# Save the TF-IDF vectorizer\n",
    "joblib.dump(vectorizer, \"models/tfidf_bigrams_vectorizer.joblib\")"
   ]
  },
  {
   "cell_type": "markdown",
   "metadata": {},
   "source": [
    "# Avanced model"
   ]
  },
  {
   "cell_type": "code",
   "execution_count": 68,
   "metadata": {},
   "outputs": [],
   "source": [
    "from tensorflow.keras.models import Sequential\n",
    "from tensorflow.keras.layers import LSTM, Dense, Dropout, Embedding\n",
    "from tensorflow.keras.preprocessing.text import Tokenizer\n",
    "from tensorflow.keras.utils import pad_sequences\n",
    "from sklearn.metrics import accuracy_score, precision_score, recall_score, f1_score\n",
    "from tensorflow.keras.models import load_model\n",
    "import pickle"
   ]
  },
  {
   "cell_type": "code",
   "execution_count": 69,
   "metadata": {},
   "outputs": [
    {
     "name": "stderr",
     "output_type": "stream",
     "text": [
      "c:\\Users\\emmam\\anaconda3\\envs\\myenv\\Lib\\site-packages\\keras\\src\\saving\\saving_lib.py:757: UserWarning: Skipping variable loading for optimizer 'rmsprop', because it has 8 variables whereas the saved optimizer has 14 variables. \n",
      "  saveable.load_own_variables(weights_store.get(inner_path))\n"
     ]
    }
   ],
   "source": [
    "MAX_WORDS=10000\n",
    "MAX_LEN=100\n",
    "LSTM_UNITS=64\n",
    "NUM_CLASSES=1 # 1 class bc its binary classification\n",
    "\n",
    "tokenizer = Tokenizer(num_words=MAX_WORDS, oov_token=\"<OOV>\")\n",
    "\n",
    "with open(\"models/tokenizer.pkl\", \"wb\") as f:\n",
    "    pickle.dump(tokenizer, f)\n",
    "\n",
    "model = load_model(\"models/advanced_model.keras\")\n"
   ]
  },
  {
   "cell_type": "markdown",
   "metadata": {},
   "source": [
    "### Training the LSTM model"
   ]
  },
  {
   "cell_type": "code",
   "execution_count": 79,
   "metadata": {},
   "outputs": [],
   "source": [
    "x_train = df_train[\"processed_text\"].fillna(\"\").astype(str).tolist()\n",
    "y_train = df_train[\"label\"].values\n",
    "\n",
    "tokenizer = Tokenizer(num_words=MAX_WORDS, oov_token=\"<OOV>\")\n",
    "\n",
    "# reference: https://spotintelligence.com/2023/01/11/lstm-in-nlp-tasks/\n",
    "tokenizer.fit_on_texts(x_train)\n",
    "sequences = tokenizer.texts_to_sequences(x_train)\n",
    "\n",
    "# padding sequences make all sequences the same length\n",
    "xTrain = pad_sequences(sequences, maxlen=MAX_LEN, padding='post')\n",
    "\n"
   ]
  },
  {
   "cell_type": "code",
   "execution_count": 80,
   "metadata": {},
   "outputs": [],
   "source": [
    "# Building the model\n",
    "model = Sequential()\n",
    "model.add(Embedding(MAX_WORDS, 32))\n",
    "model.add(LSTM(LSTM_UNITS))\n",
    "model.add(Dense(NUM_CLASSES, activation='sigmoid'))"
   ]
  },
  {
   "cell_type": "code",
   "execution_count": 81,
   "metadata": {},
   "outputs": [],
   "source": [
    "# Compiling model\n",
    "model.compile(loss='binary_crossentropy', optimizer='adam', metrics=['accuracy'])"
   ]
  },
  {
   "cell_type": "code",
   "execution_count": 82,
   "metadata": {},
   "outputs": [
    {
     "name": "stdout",
     "output_type": "stream",
     "text": [
      "Epoch 1/10\n",
      "\u001b[1m21323/21323\u001b[0m \u001b[32m━━━━━━━━━━━━━━━━━━━━\u001b[0m\u001b[37m\u001b[0m \u001b[1m596s\u001b[0m 28ms/step - accuracy: 0.8910 - loss: 0.2698\n",
      "Epoch 2/10\n",
      "\u001b[1m21323/21323\u001b[0m \u001b[32m━━━━━━━━━━━━━━━━━━━━\u001b[0m\u001b[37m\u001b[0m \u001b[1m650s\u001b[0m 30ms/step - accuracy: 0.9476 - loss: 0.1352\n",
      "Epoch 3/10\n",
      "\u001b[1m21323/21323\u001b[0m \u001b[32m━━━━━━━━━━━━━━━━━━━━\u001b[0m\u001b[37m\u001b[0m \u001b[1m656s\u001b[0m 31ms/step - accuracy: 0.9569 - loss: 0.1121\n",
      "Epoch 4/10\n",
      "\u001b[1m21323/21323\u001b[0m \u001b[32m━━━━━━━━━━━━━━━━━━━━\u001b[0m\u001b[37m\u001b[0m \u001b[1m651s\u001b[0m 31ms/step - accuracy: 0.9635 - loss: 0.0964\n",
      "Epoch 5/10\n",
      "\u001b[1m21323/21323\u001b[0m \u001b[32m━━━━━━━━━━━━━━━━━━━━\u001b[0m\u001b[37m\u001b[0m \u001b[1m603s\u001b[0m 28ms/step - accuracy: 0.9704 - loss: 0.0804\n",
      "Epoch 6/10\n",
      "\u001b[1m21323/21323\u001b[0m \u001b[32m━━━━━━━━━━━━━━━━━━━━\u001b[0m\u001b[37m\u001b[0m \u001b[1m615s\u001b[0m 29ms/step - accuracy: 0.9762 - loss: 0.0657\n",
      "Epoch 7/10\n",
      "\u001b[1m21323/21323\u001b[0m \u001b[32m━━━━━━━━━━━━━━━━━━━━\u001b[0m\u001b[37m\u001b[0m \u001b[1m598s\u001b[0m 28ms/step - accuracy: 0.9813 - loss: 0.0532\n",
      "Epoch 8/10\n",
      "\u001b[1m21323/21323\u001b[0m \u001b[32m━━━━━━━━━━━━━━━━━━━━\u001b[0m\u001b[37m\u001b[0m \u001b[1m581s\u001b[0m 27ms/step - accuracy: 0.9855 - loss: 0.0424\n",
      "Epoch 9/10\n",
      "\u001b[1m21323/21323\u001b[0m \u001b[32m━━━━━━━━━━━━━━━━━━━━\u001b[0m\u001b[37m\u001b[0m \u001b[1m549s\u001b[0m 26ms/step - accuracy: 0.9886 - loss: 0.0341\n",
      "Epoch 10/10\n",
      "\u001b[1m21323/21323\u001b[0m \u001b[32m━━━━━━━━━━━━━━━━━━━━\u001b[0m\u001b[37m\u001b[0m \u001b[1m530s\u001b[0m 25ms/step - accuracy: 0.9913 - loss: 0.0262\n"
     ]
    },
    {
     "data": {
      "text/plain": [
       "<keras.src.callbacks.history.History at 0x2b0aebf6960>"
      ]
     },
     "execution_count": 82,
     "metadata": {},
     "output_type": "execute_result"
    }
   ],
   "source": [
    "# training the model\n",
    "model.fit(xTrain, y_train, batch_size=32, epochs=10)"
   ]
  },
  {
   "cell_type": "code",
   "execution_count": 84,
   "metadata": {},
   "outputs": [],
   "source": [
    "model.save(\"models/advanced_model.keras\")  # saving model for later use"
   ]
  },
  {
   "cell_type": "markdown",
   "metadata": {},
   "source": [
    "### Validating"
   ]
  },
  {
   "cell_type": "code",
   "execution_count": 85,
   "metadata": {},
   "outputs": [
    {
     "name": "stdout",
     "output_type": "stream",
     "text": [
      "\u001b[1m2666/2666\u001b[0m \u001b[32m━━━━━━━━━━━━━━━━━━━━\u001b[0m\u001b[37m\u001b[0m \u001b[1m24s\u001b[0m 9ms/step\n",
      "              precision    recall  f1-score   support\n",
      "\n",
      "           0       0.96      0.97      0.96     66089\n",
      "           1       0.89      0.85      0.87     19202\n",
      "\n",
      "    accuracy                           0.94     85291\n",
      "   macro avg       0.92      0.91      0.91     85291\n",
      "weighted avg       0.94      0.94      0.94     85291\n",
      "\n",
      "Accuracy: 0.9415764852094594\n",
      "Precision: 0.8873331517297739\n",
      "Recall: 0.8481928965732736\n",
      "F1-score: 0.8673216710599888\n"
     ]
    }
   ],
   "source": [
    "x_valid = df_valid[\"processed_text\"].fillna(\"\").astype(str).tolist()\n",
    "y_valid = df_valid[\"label\"].values\n",
    "\n",
    "sequences = tokenizer.texts_to_sequences(x_valid)\n",
    "\n",
    "# replacing empty arrays to [1] since pad_sequences thorws error on empty sequence arrays\n",
    "sequences = [seq if seq else [1] for seq in sequences]\n",
    "\n",
    "# padding sequences make all sequences the same length\n",
    "xValid = pad_sequences(sequences, maxlen=MAX_LEN, padding='post')\n",
    "\n",
    "# predictions\n",
    "y_pred_probs = model.predict(xValid)\n",
    "y_pred = (y_pred_probs >= 0.5).astype(int).flatten() \n",
    "\n",
    "# evaluation\n",
    "print(classification_report(y_valid, y_pred))\n",
    "\n",
    "print(\"Accuracy:\", accuracy_score(y_valid, y_pred))\n",
    "print(\"Precision:\", precision_score(y_valid, y_pred))\n",
    "print(\"Recall:\", recall_score(y_valid, y_pred))\n",
    "print(\"F1-score:\", f1_score(y_valid, y_pred))\n"
   ]
  },
  {
   "cell_type": "markdown",
   "metadata": {},
   "source": [
    "### Evaluating the model"
   ]
  },
  {
   "cell_type": "code",
   "execution_count": 122,
   "metadata": {},
   "outputs": [
    {
     "name": "stdout",
     "output_type": "stream",
     "text": [
      "\u001b[1m2666/2666\u001b[0m \u001b[32m━━━━━━━━━━━━━━━━━━━━\u001b[0m\u001b[37m\u001b[0m \u001b[1m20s\u001b[0m 8ms/step\n",
      "              precision    recall  f1-score   support\n",
      "\n",
      "           0       0.96      0.97      0.96     66171\n",
      "           1       0.89      0.85      0.87     19120\n",
      "\n",
      "    accuracy                           0.94     85291\n",
      "   macro avg       0.92      0.91      0.92     85291\n",
      "weighted avg       0.94      0.94      0.94     85291\n",
      "\n",
      "Accuracy: 0.9417289045737534\n",
      "Precision: 0.8856006104207543\n",
      "Recall: 0.8498430962343096\n",
      "F1-score: 0.8673534749653037\n",
      "\u001b[1m2666/2666\u001b[0m \u001b[32m━━━━━━━━━━━━━━━━━━━━\u001b[0m\u001b[37m\u001b[0m \u001b[1m23s\u001b[0m 9ms/step - accuracy: 0.9414 - loss: 0.2352\n",
      "Test Loss: 0.2308\n",
      "Test Accuracy: 0.9417\n"
     ]
    }
   ],
   "source": [
    "x_test = df_test[\"processed_text\"].fillna(\"\").astype(str).tolist()\n",
    "y_test = df_test[\"label\"].values\n",
    "\n",
    "sequences = tokenizer.texts_to_sequences(x_test)\n",
    "\n",
    "# replacing empty arrays to [1] since pad_sequences thorws error on empty sequence arrays\n",
    "sequences = [seq if seq else [1] for seq in sequences]\n",
    "\n",
    "# padding sequences make all sequences the same length\n",
    "xTest = pad_sequences(sequences, maxlen=MAX_LEN, padding='post')\n",
    "\n",
    "# predictions\n",
    "y_pred_probs = model.predict(xTest)\n",
    "y_pred = (y_pred_probs >= 0.5).astype(int).flatten() \n",
    "\n",
    "# evaluation\n",
    "print(classification_report(y_test, y_pred))\n",
    "\n",
    "print(\"Accuracy:\", accuracy_score(y_test, y_pred))\n",
    "print(\"Precision:\", precision_score(y_test, y_pred))\n",
    "print(\"Recall:\", recall_score(y_test, y_pred))\n",
    "print(\"F1-score:\", f1_score(y_test, y_pred))\n",
    "\n",
    "loss, accuracy = model.evaluate(xTest, y_test)\n",
    "print(f\"Test Loss: {loss:.4f}\")\n",
    "print(f\"Test Accuracy: {accuracy:.4f}\")"
   ]
  },
  {
   "cell_type": "code",
   "execution_count": 125,
   "metadata": {},
   "outputs": [
    {
     "data": {
      "image/png": "[encoded data removed]",
      "text/plain": [
       "<Figure size 640x480 with 2 Axes>"
      ]
     },
     "metadata": {},
     "output_type": "display_data"
    }
   ],
   "source": [
    "confusion_matrix_fig(y_test, y_pred, \"Advanced Model on test data\")"
   ]
  },
  {
   "cell_type": "markdown",
   "metadata": {},
   "source": [
    "# Testing models with LIAR dataset"
   ]
  },
  {
   "cell_type": "markdown",
   "metadata": {},
   "source": [
    "**Preprocessing the LIAR data**"
   ]
  },
  {
   "cell_type": "code",
   "execution_count": 92,
   "metadata": {},
   "outputs": [
    {
     "name": "stdout",
     "output_type": "stream",
     "text": [
      "Processing data/liar/train.csv\n",
      "Chunk processed in 12.45s\n",
      "Chunk processed in 11.92s\n",
      "Chunk processed in 11.21s\n",
      "Chunk processed in 11.16s\n",
      "Chunk processed in 10.90s\n",
      "Chunk processed in 11.21s\n",
      "Chunk processed in 10.82s\n",
      "Chunk processed in 11.28s\n",
      "Chunk processed in 10.65s\n",
      "Chunk processed in 11.04s\n",
      "Processing data/liar/test.csv\n",
      "Chunk processed in 12.59s\n",
      "Chunk processed in 11.73s\n",
      "Processing data/liar/valid.csv\n",
      "Chunk processed in 12.32s\n",
      "Chunk processed in 12.06s\n",
      "Preprocessing done.\n"
     ]
    }
   ],
   "source": [
    "liar_test_filepath = \"data/liar/test.tsv\"\n",
    "liar_valid_filepath = \"data/liar/valid.tsv\"\n",
    "liar_train_filepath = \"data/liar/train.tsv\"\n",
    " \n",
    "# convert liar data to csv\n",
    "# liar headers\n",
    "liar_headers= [\"id\", \"label\", \"statement\", \"subject\", \"speaker\", \"job_title\", \"state_info\", \"party_affiliation\",\n",
    "                \"barely_true_counts\", \"false_counts\", \"half_true_counts\", \"mostly_true_counts\", \"pants_onfire_counts\", \"context\"]\n",
    "# convert liar data to csv\n",
    "liar_test_df = pd.read_csv(liar_test_filepath, sep=\"\\t\", header=None, names=liar_headers)\n",
    "liar_valid_df = pd.read_csv(liar_valid_filepath, sep=\"\\t\", header=None, names=liar_headers)\n",
    "liar_train_df = pd.read_csv(liar_train_filepath, sep=\"\\t\", header=None, names=liar_headers)\n",
    " \n",
    "liar_test_df.to_csv(\"data/liar/test.csv\", index=False)\n",
    "liar_valid_df.to_csv(\"data/liar/valid.csv\", index=False)\n",
    "liar_train_df.to_csv(\"data/liar/train.csv\", index=False)\n",
    " \n",
    "# labels in liar = true, false, half-true, pants-fire, barely-true, mostly-true\n",
    "# only true and mostly-true are true others are false\n",
    "# converting labels to binary 1=true, 0=false\n",
    "liar_selected_columns = [\"label\", \"subject\", \"statement\"]\n",
    " \n",
    "input_files = [\"data/liar/train.csv\", \"data/liar/test.csv\", \"data/liar/valid.csv\"]\n",
    "output_files = [\"data/liar/train_processed.csv\", \"data/liar/test_processed.csv\", \"data/liar/valid_processed.csv\"]\n",
    "\n",
    "nlp = spacy.load(\"en_core_web_sm\", disable=[\"ner\", \"parser\"]) # https://www.geeksforgeeks.org/tokenization-using-spacy-library/\n",
    "def preprocess_liar(texts):\n",
    "    for doc in nlp.pipe(texts, batch_size=500, n_process=4): # batch size is the number of texts to process at once\n",
    "        yield \" \".join(token.lemma_.lower() for token in doc if token.is_alpha and not token.is_stop)\n",
    "\n",
    "for input_file, output_file in zip(input_files, output_files):\n",
    "    print(f\"Processing {input_file}\")\n",
    "    first_chunk = True\n",
    "\n",
    "    # writing the processed text data into another file\n",
    "    with open(output_file, \"w\", encoding=\"utf-8\") as f_out: \n",
    "        for chunk in pd.read_csv(input_file, encoding=\"utf-8\", usecols=liar_selected_columns, on_bad_lines='warn', chunksize=1024, engine='python'):\n",
    "            start = time.time() # timing the chunk processing for debugging\n",
    "\n",
    "            # adding label column which tells whether the article is reliable (=1) or not (=0)\n",
    "            chunk[\"bin_label\"] = chunk[\"label\"].apply(lambda x: 1 if str(x).strip().lower() in [\"true\", \"mostly-true\"] else 0)\n",
    "            # collecting yields into a list\n",
    "            texts = chunk[\"statement\"].fillna(\"\").astype(str).tolist() # content column to a list\n",
    "            processed = list(preprocess_liar(texts)) # processing the list\n",
    "            chunk[\"processed_text\"] = processed # assigning back to chunk\n",
    "            chunk[\"domain\"] = chunk[\"subject\"].fillna(\"unknown\")\n",
    "            chunk[\"title\"] = chunk[\"statement\"]\n",
    "\n",
    "            print(f\"Chunk processed in {time.time() - start:.2f}s\")\n",
    "            # appending the chunk to the output file\n",
    "            chunk[[\"processed_text\", \"bin_label\", \"subject\", \"label\", \"title\", \"domain\"]].to_csv(f_out, mode=\"a\", header=first_chunk, index=False) \n",
    "            first_chunk = False # for the header \n",
    "\n",
    "\n",
    "print(\"Preprocessing done.\")"
   ]
  },
  {
   "cell_type": "code",
   "execution_count": 93,
   "metadata": {},
   "outputs": [],
   "source": [
    "df_valid_liar = pd.read_csv(\"data/liar/valid_processed.csv\")  \n",
    "df_test_liar = pd.read_csv(\"data/liar/test_processed.csv\") \n",
    "df_train_liar = pd.read_csv(\"data/liar/train_processed.csv\") "
   ]
  },
  {
   "cell_type": "markdown",
   "metadata": {},
   "source": [
    "### Simple model with LIAR"
   ]
  },
  {
   "cell_type": "markdown",
   "metadata": {},
   "source": [
    "**Without metadata**"
   ]
  },
  {
   "cell_type": "code",
   "execution_count": 96,
   "metadata": {},
   "outputs": [],
   "source": [
    "x_valid_liar = df_valid_liar[\"processed_text\"].fillna(\"\")\n",
    "y_valid_liar = df_valid_liar[\"bin_label\"]\n",
    "\n",
    "x_test_liar = df_test_liar[\"processed_text\"].fillna(\"\")\n",
    "y_test_liar = df_test_liar[\"bin_label\"]\n",
    "\n",
    "x_train_liar = df_train_liar[\"processed_text\"].fillna(\"\")\n",
    "y_train_liar = df_train_liar[\"bin_label\"]\n",
    "\n",
    "\n",
    "x_val_vec_liar = vectorizer.transform(x_valid_liar)\n",
    "x_test_vec_liar = vectorizer.transform(x_test_liar)\n",
    "x_train_vec_liar = vectorizer.transform(x_train_liar)"
   ]
  },
  {
   "cell_type": "markdown",
   "metadata": {},
   "source": [
    "**Evaluating with train, validation and test datasets**"
   ]
  },
  {
   "cell_type": "code",
   "execution_count": 98,
   "metadata": {},
   "outputs": [
    {
     "name": "stdout",
     "output_type": "stream",
     "text": [
      "Train data accuracy for validation data in simple model: 0.64482421875\n",
      "              precision    recall  f1-score   support\n",
      "\n",
      "           0       0.64      1.00      0.78      6602\n",
      "           1       0.67      0.00      0.00      3638\n",
      "\n",
      "    accuracy                           0.64     10240\n",
      "   macro avg       0.66      0.50      0.39     10240\n",
      "weighted avg       0.65      0.64      0.51     10240\n",
      "\n"
     ]
    }
   ],
   "source": [
    "y_pred_train_liar = simple_model.predict(x_train_vec_liar)\n",
    "print(\"Train data accuracy for validation data in simple model:\", accuracy_score(y_train_liar, y_pred_train_liar))\n",
    "print(classification_report(y_train_liar, y_pred_train_liar, zero_division=0))"
   ]
  },
  {
   "cell_type": "code",
   "execution_count": 99,
   "metadata": {},
   "outputs": [
    {
     "name": "stdout",
     "output_type": "stream",
     "text": [
      "Validation data accuracy for validation data in simple model: 0.6728971962616822\n",
      "              precision    recall  f1-score   support\n",
      "\n",
      "           0       0.67      1.00      0.80       864\n",
      "           1       0.00      0.00      0.00       420\n",
      "\n",
      "    accuracy                           0.67      1284\n",
      "   macro avg       0.34      0.50      0.40      1284\n",
      "weighted avg       0.45      0.67      0.54      1284\n",
      "\n"
     ]
    }
   ],
   "source": [
    "y_pred_val_liar = simple_model.predict(x_val_vec_liar)\n",
    "print(\"Validation data accuracy for validation data in simple model:\", accuracy_score(y_valid_liar, y_pred_val_liar))\n",
    "print(classification_report(y_valid_liar, y_pred_val_liar, zero_division=0))"
   ]
  },
  {
   "cell_type": "code",
   "execution_count": 101,
   "metadata": {},
   "outputs": [
    {
     "name": "stdout",
     "output_type": "stream",
     "text": [
      "Test data accuracy for test data in simple model: 0.6456195737963694\n",
      "              precision    recall  f1-score   support\n",
      "\n",
      "           0       0.65      1.00      0.78       818\n",
      "           1       0.00      0.00      0.00       449\n",
      "\n",
      "    accuracy                           0.65      1267\n",
      "   macro avg       0.32      0.50      0.39      1267\n",
      "weighted avg       0.42      0.65      0.51      1267\n",
      "\n"
     ]
    }
   ],
   "source": [
    "y_pred_test_liar = simple_model.predict(x_test_vec_liar)\n",
    "print(\"Test data accuracy for test data in simple model:\", accuracy_score(y_test_liar, y_pred_test_liar))\n",
    "print(classification_report(y_test_liar, y_pred_test_liar, zero_division=0))"
   ]
  },
  {
   "cell_type": "markdown",
   "metadata": {},
   "source": [
    "**Simple model with metadata**"
   ]
  },
  {
   "cell_type": "code",
   "execution_count": null,
   "metadata": {},
   "outputs": [
    {
     "name": "stdout",
     "output_type": "stream",
     "text": [
      "Validation data accuracy for meta-model using LIAR: 0.6451171875\n",
      "              precision    recall  f1-score   support\n",
      "\n",
      "           0       0.65      1.00      0.78      6602\n",
      "           1       0.83      0.00      0.00      3638\n",
      "\n",
      "    accuracy                           0.65     10240\n",
      "   macro avg       0.74      0.50      0.39     10240\n",
      "weighted avg       0.71      0.65      0.51     10240\n",
      "\n"
     ]
    }
   ],
   "source": [
    "domain_encoded_train_liar = domain_ohe.transform(df_train_liar[[\"domain\"]])\n",
    "title_encoded_train_liar = title_vec.transform(df_train_liar[\"title\"].fillna(\"\"))\n",
    "\n",
    "x_combined_train_liar = hstack([x_train_vec_liar, domain_encoded_train_liar, title_encoded_train_liar])\n",
    "\n",
    "# evaluating\n",
    "y_pred_train_liar = meta_model.predict(x_combined_train_liar)\n",
    "\n",
    "print(\"Validation data accuracy for meta-model using LIAR:\", accuracy_score(y_train_liar, y_pred_train_liar))\n",
    "print(classification_report(y_train_liar, y_pred_train_liar, zero_division=0))"
   ]
  },
  {
   "cell_type": "code",
   "execution_count": null,
   "metadata": {},
   "outputs": [
    {
     "name": "stdout",
     "output_type": "stream",
     "text": [
      "Validation data accuracy for meta-model using LIAR: 0.6721183800623053\n",
      "              precision    recall  f1-score   support\n",
      "\n",
      "           0       0.67      1.00      0.80       864\n",
      "           1       0.00      0.00      0.00       420\n",
      "\n",
      "    accuracy                           0.67      1284\n",
      "   macro avg       0.34      0.50      0.40      1284\n",
      "weighted avg       0.45      0.67      0.54      1284\n",
      "\n"
     ]
    }
   ],
   "source": [
    "domain_encoded_valid_liar = domain_ohe.transform(df_valid_liar[[\"domain\"]])\n",
    "title_encoded_valid_liar = title_vec.transform(df_valid_liar[\"title\"].fillna(\"\"))\n",
    "\n",
    "x_combined_val_liar = hstack([x_val_vec_liar, domain_encoded_valid_liar, title_encoded_valid_liar])\n",
    "\n",
    "# evaluating\n",
    "y_pred_val_liar = meta_model.predict(x_combined_val_liar)\n",
    "\n",
    "print(\"Validation data accuracy for meta-model using LIAR:\", accuracy_score(y_valid_liar, y_pred_val_liar))\n",
    "print(classification_report(y_valid_liar, y_pred_val_liar, zero_division=0))"
   ]
  },
  {
   "cell_type": "code",
   "execution_count": 108,
   "metadata": {},
   "outputs": [
    {
     "name": "stdout",
     "output_type": "stream",
     "text": [
      "Test data accuracy for meta-model using LIAR: 0.6456195737963694\n",
      "              precision    recall  f1-score   support\n",
      "\n",
      "           0       0.65      1.00      0.78       818\n",
      "           1       0.00      0.00      0.00       449\n",
      "\n",
      "    accuracy                           0.65      1267\n",
      "   macro avg       0.32      0.50      0.39      1267\n",
      "weighted avg       0.42      0.65      0.51      1267\n",
      "\n"
     ]
    }
   ],
   "source": [
    "domain_encoded_test_liar = domain_ohe.transform(df_test_liar[[\"domain\"]])\n",
    "title_encoded_test_liar = title_vec.transform(df_test_liar[\"title\"].fillna(\"\"))\n",
    "\n",
    "x_combined_test_liar = hstack([x_test_vec_liar, domain_encoded_test_liar, title_encoded_test_liar])\n",
    "\n",
    "# evaluating\n",
    "y_pred_test_liar = meta_model.predict(x_combined_test_liar)\n",
    "\n",
    "print(\"Test data accuracy for meta-model using LIAR:\", accuracy_score(y_test_liar, y_pred_test_liar))\n",
    "print(classification_report(y_test_liar, y_pred_test_liar, zero_division=0))"
   ]
  },
  {
   "cell_type": "markdown",
   "metadata": {},
   "source": [
    "### Advanced model with LIAR"
   ]
  },
  {
   "cell_type": "markdown",
   "metadata": {},
   "source": [
    "**Training data from liar**"
   ]
  },
  {
   "cell_type": "code",
   "execution_count": null,
   "metadata": {},
   "outputs": [
    {
     "name": "stdout",
     "output_type": "stream",
     "text": [
      "\u001b[1m320/320\u001b[0m \u001b[32m━━━━━━━━━━━━━━━━━━━━\u001b[0m\u001b[37m\u001b[0m \u001b[1m3s\u001b[0m 11ms/step\n",
      "              precision    recall  f1-score   support\n",
      "\n",
      "           0       0.65      0.96      0.77      6602\n",
      "           1       0.43      0.06      0.10      3638\n",
      "\n",
      "    accuracy                           0.64     10240\n",
      "   macro avg       0.54      0.51      0.44     10240\n",
      "weighted avg       0.57      0.64      0.54     10240\n",
      "\n",
      "\u001b[1m320/320\u001b[0m \u001b[32m━━━━━━━━━━━━━━━━━━━━\u001b[0m\u001b[37m\u001b[0m \u001b[1m4s\u001b[0m 12ms/step - accuracy: 1.0000 - loss: 0.0326\n",
      "LIAR Train Loss: 0.0334\n",
      "LIAR Train Accuracy: 1.0000\n"
     ]
    }
   ],
   "source": [
    "x_liar_train = df_train_liar[\"processed_text\"].fillna(\"\").astype(str).tolist()\n",
    "y_liar_train = df_train_liar[\"bin_label\"].values\n",
    "\n",
    "sequences = tokenizer.texts_to_sequences(x_liar_train)\n",
    "\n",
    "# padding sequences make all sequences the same length\n",
    "xLiarTrain = pad_sequences(sequences, maxlen=MAX_LEN, padding='post')\n",
    "\n",
    "# predictions\n",
    "y_pred_probs_train = model.predict(xLiarTrain)\n",
    "y_pred_train = (y_pred_probs_train >= 0.5).astype(int).flatten() \n",
    "\n",
    "# evaluation\n",
    "print(classification_report(y_liar_train, y_pred_train))\n",
    "\n",
    "loss, accuracy = model.evaluate(xLiarTrain, y_pred_train)\n",
    "print(f\"LIAR Train Loss: {loss:.4f}\")\n",
    "print(f\"LIAR Train Accuracy: {accuracy:.4f}\")\n"
   ]
  },
  {
   "cell_type": "markdown",
   "metadata": {},
   "source": [
    "**Valid data from liar**"
   ]
  },
  {
   "cell_type": "code",
   "execution_count": 112,
   "metadata": {},
   "outputs": [
    {
     "name": "stdout",
     "output_type": "stream",
     "text": [
      "\u001b[1m41/41\u001b[0m \u001b[32m━━━━━━━━━━━━━━━━━━━━\u001b[0m\u001b[37m\u001b[0m \u001b[1m0s\u001b[0m 11ms/step\n",
      "              precision    recall  f1-score   support\n",
      "\n",
      "           0       0.68      0.95      0.79       864\n",
      "           1       0.38      0.06      0.10       420\n",
      "\n",
      "    accuracy                           0.66      1284\n",
      "   macro avg       0.53      0.51      0.45      1284\n",
      "weighted avg       0.58      0.66      0.57      1284\n",
      "\n",
      "\u001b[1m41/41\u001b[0m \u001b[32m━━━━━━━━━━━━━━━━━━━━\u001b[0m\u001b[37m\u001b[0m \u001b[1m0s\u001b[0m 11ms/step - accuracy: 0.6656 - loss: 2.1836\n",
      "LIAR Validation Loss: 2.2493\n",
      "LIAR Validation Accuracy: 0.6612\n"
     ]
    }
   ],
   "source": [
    "x_liar_valid = df_valid_liar[\"processed_text\"].fillna(\"\").astype(str).tolist()\n",
    "y_liar_valid = df_valid_liar[\"bin_label\"].values\n",
    "\n",
    "sequences = tokenizer.texts_to_sequences(x_liar_valid)\n",
    "\n",
    "# padding sequences make all sequences the same length\n",
    "xLiarValid = pad_sequences(sequences, maxlen=MAX_LEN, padding='post')\n",
    "\n",
    "# predictions\n",
    "y_pred_probs_valid = model.predict(xLiarValid)\n",
    "y_pred_valid = (y_pred_probs_valid >= 0.5).astype(int).flatten() \n",
    "\n",
    "# evaluation\n",
    "print(classification_report(y_liar_valid, y_pred_valid))\n",
    "\n",
    "loss, accuracy = model.evaluate(xLiarValid, y_liar_valid)\n",
    "print(f\"LIAR Validation Loss: {loss:.4f}\")\n",
    "print(f\"LIAR Validation Accuracy: {accuracy:.4f}\")\n"
   ]
  },
  {
   "cell_type": "markdown",
   "metadata": {},
   "source": [
    "**Test data from liar**"
   ]
  },
  {
   "cell_type": "code",
   "execution_count": 113,
   "metadata": {},
   "outputs": [
    {
     "name": "stdout",
     "output_type": "stream",
     "text": [
      "\u001b[1m40/40\u001b[0m \u001b[32m━━━━━━━━━━━━━━━━━━━━\u001b[0m\u001b[37m\u001b[0m \u001b[1m0s\u001b[0m 11ms/step\n",
      "              precision    recall  f1-score   support\n",
      "\n",
      "           0       0.65      0.96      0.77       818\n",
      "           1       0.42      0.06      0.10       449\n",
      "\n",
      "    accuracy                           0.64      1267\n",
      "   macro avg       0.53      0.51      0.44      1267\n",
      "weighted avg       0.57      0.64      0.54      1267\n",
      "\n",
      "\u001b[1m40/40\u001b[0m \u001b[32m━━━━━━━━━━━━━━━━━━━━\u001b[0m\u001b[37m\u001b[0m \u001b[1m1s\u001b[0m 13ms/step - accuracy: 0.6481 - loss: 2.3304\n",
      "LIAR Test Loss: 2.4280\n",
      "LIAR Test Accuracy: 0.6377\n"
     ]
    }
   ],
   "source": [
    "x_liar_test = df_test_liar[\"processed_text\"].fillna(\"\").astype(str).tolist()\n",
    "y_liar_test = df_test_liar[\"bin_label\"].values\n",
    "\n",
    "sequences = tokenizer.texts_to_sequences(x_liar_test)\n",
    "\n",
    "# padding sequences make all sequences the same length\n",
    "xLiarTest = pad_sequences(sequences, maxlen=MAX_LEN, padding='post')\n",
    "\n",
    "# predictions\n",
    "y_pred_probs_test = model.predict(xLiarTest)\n",
    "y_pred_test = (y_pred_probs_test >= 0.5).astype(int).flatten() \n",
    "\n",
    "# evaluation\n",
    "print(classification_report(y_liar_test, y_pred_test))\n",
    "\n",
    "loss, accuracy = model.evaluate(xLiarTest, y_liar_test)\n",
    "print(f\"LIAR Test Loss: {loss:.4f}\")\n",
    "print(f\"LIAR Test Accuracy: {accuracy:.4f}\")\n"
   ]
  }
 ],
 "metadata": {
  "kernelspec": {
   "display_name": "myenv",
   "language": "python",
   "name": "python3"
  },
  "language_info": {
   "codemirror_mode": {
    "name": "ipython",
    "version": 3
   },
   "file_extension": ".py",
   "mimetype": "text/x-python",
   "name": "python",
   "nbconvert_exporter": "python",
   "pygments_lexer": "ipython3",
   "version": "3.12.3"
  }
 },
 "nbformat": 4,
 "nbformat_minor": 2
}
