{
 "cells": [
  {
   "cell_type": "code",
   "execution_count": 19,
   "metadata": {},
   "outputs": [],
   "source": [
    "# Imports\n",
    "import pandas as pd\n",
    "from dotenv import load_dotenv\n",
    "import os\n",
    "import csv\n",
    "import sys\n",
    "import re"
   ]
  },
  {
   "cell_type": "markdown",
   "metadata": {},
   "source": [
    "### Data processing"
   ]
  },
  {
   "cell_type": "code",
   "execution_count": null,
   "metadata": {},
   "outputs": [
    {
     "name": "stdout",
     "output_type": "stream",
     "text": [
      "Filepath: data/news_cleaned_2018_02_13.csv\n"
     ]
    }
   ],
   "source": [
    "load_dotenv()\n",
    "filepath = os.getenv('FILEPATH')\n",
    "print(f\"Filepath: {filepath}\") \n",
    "\n",
    "#df_10 = pd.read_csv(filepath, nrows=10)\n",
    "#print(df_10)\n"
   ]
  },
  {
   "cell_type": "code",
   "execution_count": null,
   "metadata": {},
   "outputs": [
    {
     "name": "stdout",
     "output_type": "stream",
     "text": [
      "100000\n",
      "100000\n",
      "test\n",
      "   id              domain   type  \\\n",
      "0   2       express.co.uk  rumor   \n",
      "1   6  barenakedislam.com   hate   \n",
      "2   7  barenakedislam.com   hate   \n",
      "3   8  barenakedislam.com   hate   \n",
      "4   9  barenakedislam.com   hate   \n",
      "\n",
      "                                                 url  \\\n",
      "0  https://www.express.co.uk/news/science/738402/...   \n",
      "1  http://barenakedislam.com/category/donald-trum...   \n",
      "2  http://barenakedislam.com/category/donald-trum...   \n",
      "3  http://barenakedislam.com/2017/12/24/more-winn...   \n",
      "4  http://barenakedislam.com/2017/12/25/oh-trump-...   \n",
      "\n",
      "                                             content  \\\n",
      "0  Life is an illusion, at least on a quantum lev...   \n",
      "1  Unfortunately, he hasn’t yet attacked her for ...   \n",
      "2  The Los Angeles Police Department has been den...   \n",
      "3  The White House has decided to quietly withdra...   \n",
      "4  “The time has come to cut off the tongues of t...   \n",
      "\n",
      "                                               title  \n",
      "0  Is life an ILLUSION? Researchers prove 'realit...  \n",
      "1                                       Donald Trump  \n",
      "2                                       Donald Trump  \n",
      "3  MORE WINNING! Israeli intelligence source, DEB...  \n",
      "4  “Oh, Trump, you coward, you just wait, we will...  \n"
     ]
    }
   ],
   "source": [
    "\"\"\"\n",
    "The corpus is formatted as a CSV and contains the following fields:\n",
    "\n",
    "    id\n",
    "    domain\n",
    "    type\n",
    "    url\n",
    "    content\n",
    "    scraped_at\n",
    "    inserted_at\n",
    "    updated_at\n",
    "    title\n",
    "    authors\n",
    "    keywords\n",
    "    meta_keywords\n",
    "    meta_description\n",
    "    tags\n",
    "    summary\n",
    "    source (opensources, nytimes, or webhose)\n",
    "\"\"\"\n",
    "csv.field_size_limit(10**9)\n",
    "selected_columns = [\"id\", \"domain\", \"type\", \"url\", \"content\", \"title\"]\n",
    "\n",
    "# using 100 000 rows for building the data processing for now\n",
    "df = pd.read_csv(filepath, nrows=100000, encoding=\"utf-8\", usecols=selected_columns, on_bad_lines='warn')\n",
    "\n",
    "\n",
    "# Load the CSV file in chunks of 100000 rows\n",
    "# chunks = []\n",
    "# for chunk in pd.read_csv(filepath, usecols=selected_columns, chunksize=500000, on_bad_lines='warn', engine='python'):\n",
    "#    chunks.append(chunk)\n",
    "# df = pd.concat(chunks, ignore_index=True)\n",
    "\n",
    "\n",
    "#for i, chunk in enumerate(df_iter):\n",
    "#    df = pd.concat([df, chunk], ignore_index=True)\n",
    "#    print(f\"Chunk {i+1}:\")\n",
    "#    print(chunk.head())  # Printing first 5 rows of each chunk"
   ]
  },
  {
   "cell_type": "code",
   "execution_count": null,
   "metadata": {},
   "outputs": [
    {
     "name": "stdout",
     "output_type": "stream",
     "text": [
      "99969\n",
      "id            0\n",
      "domain        0\n",
      "type       3509\n",
      "url           0\n",
      "content       0\n",
      "title         0\n",
      "dtype: int64\n",
      "0\n",
      "99969\n",
      "test\n",
      "   id              domain   type  \\\n",
      "0   2       express.co.uk  rumor   \n",
      "1   6  barenakedislam.com   hate   \n",
      "2   7  barenakedislam.com   hate   \n",
      "3   8  barenakedislam.com   hate   \n",
      "4   9  barenakedislam.com   hate   \n",
      "\n",
      "                                                 url  \\\n",
      "0  https://www.express.co.uk/news/science/738402/...   \n",
      "1  http://barenakedislam.com/category/donald-trum...   \n",
      "2  http://barenakedislam.com/category/donald-trum...   \n",
      "3  http://barenakedislam.com/2017/12/24/more-winn...   \n",
      "4  http://barenakedislam.com/2017/12/25/oh-trump-...   \n",
      "\n",
      "                                             content  \\\n",
      "0  life is an illusion at least on a quantum leve...   \n",
      "1  unfortunately he hasnt yet attacked her for is...   \n",
      "2  the los angeles police department has been den...   \n",
      "3  the white house has decided to quietly withdra...   \n",
      "4  the time has come to cut off the tongues of th...   \n",
      "\n",
      "                                               title  \n",
      "0  is life an illusion researchers prove reality ...  \n",
      "1                                       donald trump  \n",
      "2                                       donald trump  \n",
      "3  more winning israeli intelligence source debka...  \n",
      "4  oh trump you coward you just wait we will dig ...  \n"
     ]
    }
   ],
   "source": [
    "# Cleaning data\n",
    "\n",
    "#print(df.shape[0])\n",
    "#print(df.isnull().sum())\n",
    "#print(df.duplicated().sum())\n",
    "\n",
    "# Removing duplicates and null values from speficic columns\n",
    "df = df.drop_duplicates(subset=[\"url\", \"content\"])\n",
    "df = df.dropna(subset=[\"title\"])\n",
    "\n",
    "# lowercasing text\n",
    "df['content'] = df['content'].str.lower()\n",
    "df['title'] = df['title'].str.lower()\n",
    "\n",
    "# removing punctuations\n",
    "def remove_punctutation(text):\n",
    "    text = re.sub(r'[^\\w\\s]', '', text)\n",
    "    return text\n",
    "\n",
    "df['content'] = df['content'].apply(remove_punctutation)\n",
    "df['title'] = df['title'].apply(remove_punctutation)\n",
    "\n",
    "#print(df.shape[0])\n",
    "\n",
    "#print(\"test\")\n",
    "#print(df.head())  "
   ]
  },
  {
   "cell_type": "markdown",
   "metadata": {},
   "source": [
    "## Data processing"
   ]
  },
  {
   "cell_type": "code",
   "execution_count": null,
   "metadata": {},
   "outputs": [],
   "source": []
  }
 ],
 "metadata": {
  "kernelspec": {
   "display_name": "base",
   "language": "python",
   "name": "python3"
  },
  "language_info": {
   "codemirror_mode": {
    "name": "ipython",
    "version": 3
   },
   "file_extension": ".py",
   "mimetype": "text/x-python",
   "name": "python",
   "nbconvert_exporter": "python",
   "pygments_lexer": "ipython3",
   "version": "3.12.7"
  }
 },
 "nbformat": 4,
 "nbformat_minor": 2
}
